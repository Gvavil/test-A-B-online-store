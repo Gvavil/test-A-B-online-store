{
 "cells": [
  {
   "cell_type": "markdown",
   "metadata": {
    "toc": true
   },
   "source": [
    "<h1>Table of Contents<span class=\"tocSkip\"></span></h1>\n",
    "<div class=\"toc\"><ul class=\"toc-item\"><li><span><a href=\"#Descarga-los-datos-y-prepáralos-para-el-análisis\" data-toc-modified-id=\"Descarga-los-datos-y-prepáralos-para-el-análisis-1\"><span class=\"toc-item-num\">1&nbsp;&nbsp;</span>Descarga los datos y prepáralos para el análisis</a></span></li><li><span><a href=\"#Análisis-exploratorio-de-datos\" data-toc-modified-id=\"Análisis-exploratorio-de-datos-2\"><span class=\"toc-item-num\">2&nbsp;&nbsp;</span>Análisis exploratorio de datos</a></span></li><li><span><a href=\"#Priorizar-hipótesis\" data-toc-modified-id=\"Priorizar-hipótesis-3\"><span class=\"toc-item-num\">3&nbsp;&nbsp;</span>Priorizar hipótesis</a></span></li><li><span><a href=\"#Análisis-de-test-A/B\" data-toc-modified-id=\"Análisis-de-test-A/B-4\"><span class=\"toc-item-num\">4&nbsp;&nbsp;</span>Análisis de test A/B</a></span></li><li><span><a href=\"#Conclusiones\" data-toc-modified-id=\"Conclusiones-5\"><span class=\"toc-item-num\">5&nbsp;&nbsp;</span>Conclusiones</a></span></li></ul></div>"
   ]
  },
  {
   "cell_type": "markdown",
   "metadata": {},
   "source": [
    "# Descripción del proyecto"
   ]
  },
  {
   "cell_type": "markdown",
   "metadata": {},
   "source": [
    "Como analista en una gran tienda en línea, junto con el departamento de marketing, hemos recopilado una lista de hipótesis que podrían contribuir al aumento de nuestros ingresos. Mi tarea es priorizar estas hipótesis, lanzar un test A/B y analizar los resultados para tomar decisiones informadas.\n",
    "\n",
    "Nuestra meta es optimizar la experiencia de compra en línea y encontrar formas efectivas de aumentar las conversiones y el tamaño promedio de pedido. Al priorizar las hipótesis, evaluaremos su potencial impacto y viabilidad, seleccionando aquellas que sean más prometedoras para ser incluidas en el test A/B.\n",
    "\n",
    "Una vez que se haya lanzado el test A/B, recopilaré los datos necesarios y realizaré un análisis exhaustivo de los resultados. Esto nos proporcionará información crucial para evaluar la efectividad de las diferentes estrategias y determinar qué acciones deben ser tomadas en base a los hallazgos.\n",
    "\n",
    "En resumen, como analista en esta tienda en línea, mi objetivo es utilizar métodos analíticos para priorizar las hipótesis, llevar a cabo pruebas A/B y analizar los resultados obtenidos. Con esto, esperamos encontrar soluciones efectivas que impulsen nuestros ingresos y mejoren la experiencia de compra de nuestros clientes."
   ]
  },
  {
   "cell_type": "markdown",
   "metadata": {},
   "source": [
    "# Descripción de los datos"
   ]
  },
  {
   "cell_type": "markdown",
   "metadata": {},
   "source": [
    "**Datos utilizados en la primera parte del proyecto**\n",
    "\n",
    "\n",
    "- Descarga el dataset: /datasets/hypotheses_us.csv \n",
    "\n",
    "1. Hypotheses: breves descripciones de las hipótesis\n",
    "2. Reach: alcance del usuario, en una escala del uno a diez\n",
    "3. Impact: impacto en los usuarios, en una escala del uno al diez\n",
    "4. Confidence: confianza en la hipótesis, en una escala del uno al diez\n",
    "5. Effort: los recursos necesarios para probar una hipótesis, en una escala del uno al diez. Cuanto mayor sea el valor Effort, más recursos requiere la prueba."
   ]
  },
  {
   "cell_type": "markdown",
   "metadata": {},
   "source": [
    "**Datos utilizados en la segunda parte del proyecto**\n",
    "\n",
    "- Descarga el dataset: /datasets/orders_us.csv \n",
    "\n",
    "1. transactionId: identificador de pedido\n",
    "2. visitorId: identificador del usuario que realizó el pedido\n",
    "3. date: fecha del pedido\n",
    "4. revenue: ingresos del pedido\n",
    "5. group: el grupo del test A/B al que pertenece el usuario"
   ]
  },
  {
   "cell_type": "markdown",
   "metadata": {},
   "source": [
    "- Descarga el dataset: /datasets/visits_us.csv \n",
    "1. date: la fecha\n",
    "2. group: grupo del test A/B\n",
    "3. visits: el número de visitas en la fecha especificada para el grupo de test A/B especificado"
   ]
  },
  {
   "cell_type": "markdown",
   "metadata": {},
   "source": [
    "Asegúrate de preprocesar los datos. Es posible que haya errores en los datasets originales; por ejemplo, algunos de los visitantes podrían haber entrado tanto en el grupo A como en el grupo B."
   ]
  },
  {
   "cell_type": "markdown",
   "metadata": {},
   "source": [
    "# Priorizar hipótesis\n",
    "\n",
    "El archivo **hypotheses_us.csv** contiene nueve hipótesis sobre cómo aumentar los ingresos de una tienda en línea con Reach, Impact, Confidence y Effort especificados para cada una.\n",
    "\n",
    "\n",
    "El ejercicio consiste en:\n",
    "\n",
    "- Aplicar el framework ICE para priorizar hipótesis. Ordenarlas en orden descendente de prioridad.\n",
    "- Aplicar el framework RICE para priorizar hipótesis. Ordenarlas en orden descendente de prioridad.\n",
    "- Mostrar cómo cambia la priorización de hipótesis cuando utilizas RICE en lugar de ICE. Proporcionar una explicación de los cambios."
   ]
  },
  {
   "cell_type": "markdown",
   "metadata": {},
   "source": [
    "# Análisis de test A/B\n",
    "\n",
    "Realizaste un test A/B y obtuviste los resultados descritos en los archivos orders_us.csv y visitors_us.csv.\n",
    "\n",
    "- Ejercicio\n",
    "\n",
    "**Analiza el test A/B:**\n",
    "1. Representa gráficamente el ingreso acumulado por grupo. Haz conclusiones y conjeturas.\n",
    "\n",
    "2. Representa gráficamente el tamaño de pedido promedio acumulado por grupo. Haz conclusiones y conjeturas.\n",
    "\n",
    "3. Representa gráficamente la diferencia relativa en el tamaño de pedido promedio acumulado para el grupo B en comparación con el grupo A. Haz conclusiones y conjeturas.\n",
    "\n",
    "4. Calcula la tasa de conversión de cada grupo como la relación entre los pedidos y el número de visitas de cada día. Representa gráficamente las tasas de conversión diarias de los dos grupos y describe la diferencia. Saca conclusiones y haz conjeturas.\n",
    "\n",
    "5. Traza un gráfico de dispersión del número de pedidos por usuario. Haz conclusiones y conjeturas.\n",
    "\n",
    "6. Calcula los percentiles 95 y 99 para el número de pedidos por usuario. Define el punto en el cual un punto de datos se convierte en una anomalía.\n",
    "\n",
    "7. Traza un gráfico de dispersión de los precios de los pedidos. Haz conclusiones y conjeturas.\n",
    "\n",
    "8. Calcula los percentiles 95 y 99 de los precios de los pedidos. Define el punto en el cual un punto de datos se convierte en una anomalía.\n",
    "\n",
    "9. Encuentra la significancia estadística de la diferencia en la conversión entre los grupos utilizando los datos en bruto. Haz conclusiones y conjeturas.\n",
    "\n",
    "10. Encuentra la significancia estadística de la diferencia en el tamaño promedio de pedido entre los grupos utilizando los datos en bruto. Haz conclusiones y conjeturas.\n",
    "\n",
    "11. Encuentra la significancia estadística de la diferencia en la conversión entre los grupos utilizando los datos filtrados. Haz conclusiones y conjeturas.\n",
    "\n",
    "12. Encuentra la significancia estadística de la diferencia en el tamaño promedio de pedido entre los grupos utilizando los datos filtrados. Haz conclusiones y conjeturas.\n",
    "\n",
    "13. Toma una decisión basada en los resultados de la prueba. Las decisiones posibles son: 1. Para la prueba, considera a uno de los grupos como líder. 2. Para la prueba, concluye que no hay diferencia entre los grupos. 3. Continúa la prueba."
   ]
  },
  {
   "cell_type": "markdown",
   "metadata": {},
   "source": [
    "## Descarga los datos y prepáralos para el análisis"
   ]
  },
  {
   "cell_type": "code",
   "execution_count": 101,
   "metadata": {},
   "outputs": [],
   "source": [
    "# Impotamos las librerías\n",
    "import pandas as pd\n",
    "import numpy as np \n",
    "import seaborn as sns\n",
    "from scipy import stats as st\n",
    "import datetime as dt\n",
    "import matplotlib.pyplot as plt"
   ]
  },
  {
   "cell_type": "markdown",
   "metadata": {},
   "source": [
    "Para facilitar el trato de nuestros Dataframes, vamos a llamar a los archivos junto con los datos especificos para cada Dataframe.\n",
    "\n",
    "- Para el Dataframe 'Hypotheses':\n",
    "\n",
    "sep=';'\n",
    "\n",
    "- Para el Dataframe 'orders':\n",
    "\n",
    "columna 'date' = datetime type\n",
    "\n",
    "- Para el Dataframe 'visits':\n",
    "\n",
    "columna 'date' = datetime type"
   ]
  },
  {
   "cell_type": "code",
   "execution_count": 102,
   "metadata": {},
   "outputs": [],
   "source": [
    "Hypotheses = pd.read_csv('/datasets/hypotheses_us.csv', sep=';')\n",
    "orders = pd.read_csv('/datasets/orders_us.csv', parse_dates = ['date'])\n",
    "visits = pd.read_csv('/datasets/visits_us.csv', parse_dates = ['date'])"
   ]
  },
  {
   "cell_type": "code",
   "execution_count": 103,
   "metadata": {},
   "outputs": [],
   "source": [
    "# Cambiamos los nombres de las columnas a minúsculas para facilitar el manejo\n",
    "Hypotheses.columns = Hypotheses.columns.str.lower()"
   ]
  },
  {
   "cell_type": "markdown",
   "metadata": {},
   "source": [
    "## Análisis exploratorio de datos"
   ]
  },
  {
   "cell_type": "code",
   "execution_count": 104,
   "metadata": {},
   "outputs": [
    {
     "name": "stdout",
     "output_type": "stream",
     "text": [
      "<class 'pandas.core.frame.DataFrame'>\n",
      "RangeIndex: 9 entries, 0 to 8\n",
      "Data columns (total 5 columns):\n",
      " #   Column      Non-Null Count  Dtype \n",
      "---  ------      --------------  ----- \n",
      " 0   hypothesis  9 non-null      object\n",
      " 1   reach       9 non-null      int64 \n",
      " 2   impact      9 non-null      int64 \n",
      " 3   confidence  9 non-null      int64 \n",
      " 4   effort      9 non-null      int64 \n",
      "dtypes: int64(4), object(1)\n",
      "memory usage: 488.0+ bytes\n",
      "None\n",
      "****************************************\n",
      "                                          hypothesis  reach  impact  \\\n",
      "0  Add two new channels for attracting traffic. T...      3      10   \n",
      "1  Launch your own delivery service. This will sh...      2       5   \n",
      "2  Add product recommendation blocks to the store...      8       3   \n",
      "3  Change the category structure. This will incre...      8       3   \n",
      "4  Change the background color on the main page. ...      3       1   \n",
      "\n",
      "   confidence  effort  \n",
      "0           8       6  \n",
      "1           4      10  \n",
      "2           7       3  \n",
      "3           3       8  \n",
      "4           1       1  \n"
     ]
    }
   ],
   "source": [
    "# Vemos la información general y una proporción de nuestros Dataframes\n",
    "print(Hypotheses.info())\n",
    "print('*'*40)\n",
    "print(Hypotheses.head())"
   ]
  },
  {
   "cell_type": "code",
   "execution_count": 105,
   "metadata": {},
   "outputs": [
    {
     "data": {
      "text/html": [
       "<div>\n",
       "<style scoped>\n",
       "    .dataframe tbody tr th:only-of-type {\n",
       "        vertical-align: middle;\n",
       "    }\n",
       "\n",
       "    .dataframe tbody tr th {\n",
       "        vertical-align: top;\n",
       "    }\n",
       "\n",
       "    .dataframe thead th {\n",
       "        text-align: right;\n",
       "    }\n",
       "</style>\n",
       "<table border=\"1\" class=\"dataframe\">\n",
       "  <thead>\n",
       "    <tr style=\"text-align: right;\">\n",
       "      <th></th>\n",
       "      <th>reach</th>\n",
       "      <th>impact</th>\n",
       "      <th>confidence</th>\n",
       "      <th>effort</th>\n",
       "    </tr>\n",
       "  </thead>\n",
       "  <tbody>\n",
       "    <tr>\n",
       "      <th>count</th>\n",
       "      <td>9.000000</td>\n",
       "      <td>9.000000</td>\n",
       "      <td>9.000000</td>\n",
       "      <td>9.000000</td>\n",
       "    </tr>\n",
       "    <tr>\n",
       "      <th>mean</th>\n",
       "      <td>4.777778</td>\n",
       "      <td>4.777778</td>\n",
       "      <td>5.555556</td>\n",
       "      <td>4.888889</td>\n",
       "    </tr>\n",
       "    <tr>\n",
       "      <th>std</th>\n",
       "      <td>3.153481</td>\n",
       "      <td>3.192874</td>\n",
       "      <td>3.045944</td>\n",
       "      <td>2.803767</td>\n",
       "    </tr>\n",
       "    <tr>\n",
       "      <th>min</th>\n",
       "      <td>1.000000</td>\n",
       "      <td>1.000000</td>\n",
       "      <td>1.000000</td>\n",
       "      <td>1.000000</td>\n",
       "    </tr>\n",
       "    <tr>\n",
       "      <th>25%</th>\n",
       "      <td>3.000000</td>\n",
       "      <td>3.000000</td>\n",
       "      <td>3.000000</td>\n",
       "      <td>3.000000</td>\n",
       "    </tr>\n",
       "    <tr>\n",
       "      <th>50%</th>\n",
       "      <td>3.000000</td>\n",
       "      <td>3.000000</td>\n",
       "      <td>7.000000</td>\n",
       "      <td>5.000000</td>\n",
       "    </tr>\n",
       "    <tr>\n",
       "      <th>75%</th>\n",
       "      <td>8.000000</td>\n",
       "      <td>7.000000</td>\n",
       "      <td>8.000000</td>\n",
       "      <td>6.000000</td>\n",
       "    </tr>\n",
       "    <tr>\n",
       "      <th>max</th>\n",
       "      <td>10.000000</td>\n",
       "      <td>10.000000</td>\n",
       "      <td>9.000000</td>\n",
       "      <td>10.000000</td>\n",
       "    </tr>\n",
       "  </tbody>\n",
       "</table>\n",
       "</div>"
      ],
      "text/plain": [
       "           reach     impact  confidence     effort\n",
       "count   9.000000   9.000000    9.000000   9.000000\n",
       "mean    4.777778   4.777778    5.555556   4.888889\n",
       "std     3.153481   3.192874    3.045944   2.803767\n",
       "min     1.000000   1.000000    1.000000   1.000000\n",
       "25%     3.000000   3.000000    3.000000   3.000000\n",
       "50%     3.000000   3.000000    7.000000   5.000000\n",
       "75%     8.000000   7.000000    8.000000   6.000000\n",
       "max    10.000000  10.000000    9.000000  10.000000"
      ]
     },
     "execution_count": 105,
     "metadata": {},
     "output_type": "execute_result"
    }
   ],
   "source": [
    "Hypotheses.describe()"
   ]
  },
  {
   "cell_type": "markdown",
   "metadata": {},
   "source": [
    "Podemos ver que:\n",
    "- La escala de alcance es 1- 10, al igual que la de impacto y esfuerzo\n",
    "- La escala de confianza es 1- 9"
   ]
  },
  {
   "cell_type": "code",
   "execution_count": 106,
   "metadata": {},
   "outputs": [
    {
     "name": "stdout",
     "output_type": "stream",
     "text": [
      "<class 'pandas.core.frame.DataFrame'>\n",
      "RangeIndex: 1197 entries, 0 to 1196\n",
      "Data columns (total 5 columns):\n",
      " #   Column         Non-Null Count  Dtype         \n",
      "---  ------         --------------  -----         \n",
      " 0   transactionId  1197 non-null   int64         \n",
      " 1   visitorId      1197 non-null   int64         \n",
      " 2   date           1197 non-null   datetime64[ns]\n",
      " 3   revenue        1197 non-null   float64       \n",
      " 4   group          1197 non-null   object        \n",
      "dtypes: datetime64[ns](1), float64(1), int64(2), object(1)\n",
      "memory usage: 46.9+ KB\n",
      "None\n",
      "****************************************\n",
      "   transactionId   visitorId       date  revenue group\n",
      "0     3667963787  3312258926 2019-08-15     30.4     B\n",
      "1     2804400009  3642806036 2019-08-15     15.2     B\n",
      "2     2961555356  4069496402 2019-08-15     10.2     A\n",
      "3     3797467345  1196621759 2019-08-15    155.1     B\n",
      "4     2282983706  2322279887 2019-08-15     40.5     B\n"
     ]
    }
   ],
   "source": [
    "print(orders.info())\n",
    "print('*'*40)\n",
    "print(orders.head())"
   ]
  },
  {
   "cell_type": "code",
   "execution_count": 107,
   "metadata": {},
   "outputs": [
    {
     "data": {
      "text/html": [
       "<div>\n",
       "<style scoped>\n",
       "    .dataframe tbody tr th:only-of-type {\n",
       "        vertical-align: middle;\n",
       "    }\n",
       "\n",
       "    .dataframe tbody tr th {\n",
       "        vertical-align: top;\n",
       "    }\n",
       "\n",
       "    .dataframe thead th {\n",
       "        text-align: right;\n",
       "    }\n",
       "</style>\n",
       "<table border=\"1\" class=\"dataframe\">\n",
       "  <thead>\n",
       "    <tr style=\"text-align: right;\">\n",
       "      <th></th>\n",
       "      <th>transactionId</th>\n",
       "      <th>visitorId</th>\n",
       "      <th>revenue</th>\n",
       "    </tr>\n",
       "  </thead>\n",
       "  <tbody>\n",
       "    <tr>\n",
       "      <th>count</th>\n",
       "      <td>1.197000e+03</td>\n",
       "      <td>1.197000e+03</td>\n",
       "      <td>1197.000000</td>\n",
       "    </tr>\n",
       "    <tr>\n",
       "      <th>mean</th>\n",
       "      <td>2.155621e+09</td>\n",
       "      <td>2.165960e+09</td>\n",
       "      <td>131.491646</td>\n",
       "    </tr>\n",
       "    <tr>\n",
       "      <th>std</th>\n",
       "      <td>1.229085e+09</td>\n",
       "      <td>1.236014e+09</td>\n",
       "      <td>603.004729</td>\n",
       "    </tr>\n",
       "    <tr>\n",
       "      <th>min</th>\n",
       "      <td>1.062393e+06</td>\n",
       "      <td>5.114589e+06</td>\n",
       "      <td>5.000000</td>\n",
       "    </tr>\n",
       "    <tr>\n",
       "      <th>25%</th>\n",
       "      <td>1.166776e+09</td>\n",
       "      <td>1.111826e+09</td>\n",
       "      <td>20.800000</td>\n",
       "    </tr>\n",
       "    <tr>\n",
       "      <th>50%</th>\n",
       "      <td>2.145194e+09</td>\n",
       "      <td>2.217985e+09</td>\n",
       "      <td>50.200000</td>\n",
       "    </tr>\n",
       "    <tr>\n",
       "      <th>75%</th>\n",
       "      <td>3.237740e+09</td>\n",
       "      <td>3.177606e+09</td>\n",
       "      <td>130.400000</td>\n",
       "    </tr>\n",
       "    <tr>\n",
       "      <th>max</th>\n",
       "      <td>4.293856e+09</td>\n",
       "      <td>4.283872e+09</td>\n",
       "      <td>19920.400000</td>\n",
       "    </tr>\n",
       "  </tbody>\n",
       "</table>\n",
       "</div>"
      ],
      "text/plain": [
       "       transactionId     visitorId       revenue\n",
       "count   1.197000e+03  1.197000e+03   1197.000000\n",
       "mean    2.155621e+09  2.165960e+09    131.491646\n",
       "std     1.229085e+09  1.236014e+09    603.004729\n",
       "min     1.062393e+06  5.114589e+06      5.000000\n",
       "25%     1.166776e+09  1.111826e+09     20.800000\n",
       "50%     2.145194e+09  2.217985e+09     50.200000\n",
       "75%     3.237740e+09  3.177606e+09    130.400000\n",
       "max     4.293856e+09  4.283872e+09  19920.400000"
      ]
     },
     "execution_count": 107,
     "metadata": {},
     "output_type": "execute_result"
    }
   ],
   "source": [
    "orders.describe()"
   ]
  },
  {
   "cell_type": "code",
   "execution_count": 108,
   "metadata": {},
   "outputs": [
    {
     "name": "stdout",
     "output_type": "stream",
     "text": [
      "1031\n"
     ]
    }
   ],
   "source": [
    "print(len(orders['visitorId'].unique()))"
   ]
  },
  {
   "cell_type": "code",
   "execution_count": 109,
   "metadata": {},
   "outputs": [
    {
     "data": {
      "text/plain": [
       "157395.5"
      ]
     },
     "execution_count": 109,
     "metadata": {},
     "output_type": "execute_result"
    }
   ],
   "source": [
    "orders['revenue'].sum()"
   ]
  },
  {
   "cell_type": "code",
   "execution_count": 110,
   "metadata": {},
   "outputs": [
    {
     "data": {
      "text/plain": [
       "array(['B', 'A'], dtype=object)"
      ]
     },
     "execution_count": 110,
     "metadata": {},
     "output_type": "execute_result"
    }
   ],
   "source": [
    "orders['group'].unique()"
   ]
  },
  {
   "cell_type": "code",
   "execution_count": 111,
   "metadata": {},
   "outputs": [
    {
     "data": {
      "text/plain": [
       "64554.9"
      ]
     },
     "execution_count": 111,
     "metadata": {},
     "output_type": "execute_result"
    }
   ],
   "source": [
    "orders[orders['group']=='A']['revenue'].sum()"
   ]
  },
  {
   "cell_type": "code",
   "execution_count": 112,
   "metadata": {},
   "outputs": [
    {
     "data": {
      "text/plain": [
       "92840.6"
      ]
     },
     "execution_count": 112,
     "metadata": {},
     "output_type": "execute_result"
    }
   ],
   "source": [
    "orders[orders['group']=='B']['revenue'].sum()"
   ]
  },
  {
   "cell_type": "markdown",
   "metadata": {},
   "source": [
    "- Vemos que hubo un total de 1197 transacciones\n",
    "- Total de clientes que realizaron transacciones: 1031\n",
    "- Hubo un total de ingresos de: 157395.5 unidades monetarias\n",
    "- Total de ingresos del grupo A: 64554.9\n",
    "- Total de ingresos del grupo B: 92840.6"
   ]
  },
  {
   "cell_type": "code",
   "execution_count": 113,
   "metadata": {},
   "outputs": [
    {
     "name": "stdout",
     "output_type": "stream",
     "text": [
      "<class 'pandas.core.frame.DataFrame'>\n",
      "RangeIndex: 62 entries, 0 to 61\n",
      "Data columns (total 3 columns):\n",
      " #   Column  Non-Null Count  Dtype         \n",
      "---  ------  --------------  -----         \n",
      " 0   date    62 non-null     datetime64[ns]\n",
      " 1   group   62 non-null     object        \n",
      " 2   visits  62 non-null     int64         \n",
      "dtypes: datetime64[ns](1), int64(1), object(1)\n",
      "memory usage: 1.6+ KB\n",
      "None\n",
      "****************************************\n",
      "        date group  visits\n",
      "0 2019-08-01     A     719\n",
      "1 2019-08-02     A     619\n",
      "2 2019-08-03     A     507\n",
      "3 2019-08-04     A     717\n",
      "4 2019-08-05     A     756\n"
     ]
    }
   ],
   "source": [
    "print(visits.info())\n",
    "print('*'*40)\n",
    "print(visits.head())"
   ]
  },
  {
   "cell_type": "code",
   "execution_count": 114,
   "metadata": {},
   "outputs": [
    {
     "data": {
      "text/html": [
       "<div>\n",
       "<style scoped>\n",
       "    .dataframe tbody tr th:only-of-type {\n",
       "        vertical-align: middle;\n",
       "    }\n",
       "\n",
       "    .dataframe tbody tr th {\n",
       "        vertical-align: top;\n",
       "    }\n",
       "\n",
       "    .dataframe thead th {\n",
       "        text-align: right;\n",
       "    }\n",
       "</style>\n",
       "<table border=\"1\" class=\"dataframe\">\n",
       "  <thead>\n",
       "    <tr style=\"text-align: right;\">\n",
       "      <th></th>\n",
       "      <th>visits</th>\n",
       "    </tr>\n",
       "  </thead>\n",
       "  <tbody>\n",
       "    <tr>\n",
       "      <th>count</th>\n",
       "      <td>62.000000</td>\n",
       "    </tr>\n",
       "    <tr>\n",
       "      <th>mean</th>\n",
       "      <td>607.290323</td>\n",
       "    </tr>\n",
       "    <tr>\n",
       "      <th>std</th>\n",
       "      <td>114.400560</td>\n",
       "    </tr>\n",
       "    <tr>\n",
       "      <th>min</th>\n",
       "      <td>361.000000</td>\n",
       "    </tr>\n",
       "    <tr>\n",
       "      <th>25%</th>\n",
       "      <td>534.000000</td>\n",
       "    </tr>\n",
       "    <tr>\n",
       "      <th>50%</th>\n",
       "      <td>624.500000</td>\n",
       "    </tr>\n",
       "    <tr>\n",
       "      <th>75%</th>\n",
       "      <td>710.500000</td>\n",
       "    </tr>\n",
       "    <tr>\n",
       "      <th>max</th>\n",
       "      <td>770.000000</td>\n",
       "    </tr>\n",
       "  </tbody>\n",
       "</table>\n",
       "</div>"
      ],
      "text/plain": [
       "           visits\n",
       "count   62.000000\n",
       "mean   607.290323\n",
       "std    114.400560\n",
       "min    361.000000\n",
       "25%    534.000000\n",
       "50%    624.500000\n",
       "75%    710.500000\n",
       "max    770.000000"
      ]
     },
     "execution_count": 114,
     "metadata": {},
     "output_type": "execute_result"
    }
   ],
   "source": [
    "visits.describe()"
   ]
  },
  {
   "cell_type": "code",
   "execution_count": 115,
   "metadata": {},
   "outputs": [
    {
     "data": {
      "text/plain": [
       "group\n",
       "A    18736\n",
       "B    18916\n",
       "Name: visits, dtype: int64"
      ]
     },
     "execution_count": 115,
     "metadata": {},
     "output_type": "execute_result"
    }
   ],
   "source": [
    "visits.groupby('group')['visits'].sum()"
   ]
  },
  {
   "cell_type": "markdown",
   "metadata": {},
   "source": [
    "Tenemos un total de visitas de:\n",
    "- Grupo A: 18736\n",
    "- Grupo B: 18916"
   ]
  },
  {
   "cell_type": "markdown",
   "metadata": {},
   "source": [
    "Tenemos que asegurarnos de preprocesar los datos. Es posible que haya errores en los datasets originales; por ejemplo, algunos de los visitantes podrían haber entrado tanto en el grupo A como en el grupo B. Vamos a tratar este caso a continuación"
   ]
  },
  {
   "cell_type": "code",
   "execution_count": 116,
   "metadata": {},
   "outputs": [
    {
     "name": "stdout",
     "output_type": "stream",
     "text": [
      "Cantidad de usuarios en ambos grupos: 58\n"
     ]
    }
   ],
   "source": [
    "# Veamos los usuarios que están en cada grupo\n",
    "users_group_A = orders[orders['group'] == 'A']['visitorId'].unique()\n",
    "users_group_B = orders[orders['group'] == 'B']['visitorId'].unique()\n",
    "\n",
    "users_in_both_groups = np.intersect1d(users_group_A, users_group_B)\n",
    "\n",
    "users_duplicated = len(users_in_both_groups)\n",
    "print(\"Cantidad de usuarios en ambos grupos:\", users_duplicated)"
   ]
  },
  {
   "cell_type": "code",
   "execution_count": 117,
   "metadata": {},
   "outputs": [
    {
     "name": "stdout",
     "output_type": "stream",
     "text": [
      "DataFrame 'orders' filtrado sin usuarios que están en ambos grupos:\n",
      "<class 'pandas.core.frame.DataFrame'>\n",
      "Int64Index: 1016 entries, 0 to 1196\n",
      "Data columns (total 5 columns):\n",
      " #   Column         Non-Null Count  Dtype         \n",
      "---  ------         --------------  -----         \n",
      " 0   transactionId  1016 non-null   int64         \n",
      " 1   visitorId      1016 non-null   int64         \n",
      " 2   date           1016 non-null   datetime64[ns]\n",
      " 3   revenue        1016 non-null   float64       \n",
      " 4   group          1016 non-null   object        \n",
      "dtypes: datetime64[ns](1), float64(1), int64(2), object(1)\n",
      "memory usage: 47.6+ KB\n",
      "None\n"
     ]
    }
   ],
   "source": [
    "# Filtremos 'orders' para eliminar usuarios duplicados\n",
    "orders_filtered = orders[~orders['visitorId'].isin(users_in_both_groups)]\n",
    "\n",
    "print(\"DataFrame 'orders' filtrado sin usuarios que están en ambos grupos:\")\n",
    "print(orders_filtered.info())"
   ]
  },
  {
   "cell_type": "markdown",
   "metadata": {},
   "source": [
    "Hemos eliminado 58 usuarios que se encontraban en ambos grupos, vamos a ver si tenemos algún usuario que se encuentre en ambos grupos con nuestros datos filtrados"
   ]
  },
  {
   "cell_type": "code",
   "execution_count": 118,
   "metadata": {},
   "outputs": [
    {
     "name": "stdout",
     "output_type": "stream",
     "text": [
      "Usuarios restantes en ambos grupos: []\n"
     ]
    }
   ],
   "source": [
    "usuarios_restantes = orders_filtered[orders_filtered['visitorId'].isin(users_in_both_groups)]\n",
    "print(\"Usuarios restantes en ambos grupos:\", usuarios_restantes['visitorId'].unique())"
   ]
  },
  {
   "cell_type": "markdown",
   "metadata": {},
   "source": [
    "Perfecto, hemos analizado y tratado los datos que tenemos. Ahora podemos pasar a priorizar hipótesis"
   ]
  },
  {
   "cell_type": "markdown",
   "metadata": {},
   "source": [
    "## Priorizar hipótesis"
   ]
  },
  {
   "cell_type": "markdown",
   "metadata": {},
   "source": [
    "- Vamos a realizar los siguientes puntos para la priorización de hipótesis:\n",
    "1. Aplicar el framework ICE para priorizar hipótesis. Ordenarlas en orden descendente de prioridad.\n",
    "2. Aplicar el framework RICE para priorizar hipótesis. Ordenarlas en orden descendente de prioridad.\n",
    "3. Mostrar cómo cambia la priorización de hipótesis cuando utilizas RICE en lugar de ICE. Proporcionar una explicación de los cambios.\n",
    "\n",
    "\n",
    "El archivo hypotheses_us.csv contiene nueve hipótesis sobre cómo aumentar los ingresos de una tienda en línea con Reach, Impact, Confidence y Effort especificados para cada una."
   ]
  },
  {
   "cell_type": "code",
   "execution_count": 119,
   "metadata": {
    "scrolled": true
   },
   "outputs": [
    {
     "data": {
      "text/html": [
       "<div>\n",
       "<style scoped>\n",
       "    .dataframe tbody tr th:only-of-type {\n",
       "        vertical-align: middle;\n",
       "    }\n",
       "\n",
       "    .dataframe tbody tr th {\n",
       "        vertical-align: top;\n",
       "    }\n",
       "\n",
       "    .dataframe thead th {\n",
       "        text-align: right;\n",
       "    }\n",
       "</style>\n",
       "<table border=\"1\" class=\"dataframe\">\n",
       "  <thead>\n",
       "    <tr style=\"text-align: right;\">\n",
       "      <th></th>\n",
       "      <th>hypothesis</th>\n",
       "      <th>reach</th>\n",
       "      <th>impact</th>\n",
       "      <th>confidence</th>\n",
       "      <th>effort</th>\n",
       "    </tr>\n",
       "  </thead>\n",
       "  <tbody>\n",
       "    <tr>\n",
       "      <th>0</th>\n",
       "      <td>Add two new channels for attracting traffic. T...</td>\n",
       "      <td>3</td>\n",
       "      <td>10</td>\n",
       "      <td>8</td>\n",
       "      <td>6</td>\n",
       "    </tr>\n",
       "    <tr>\n",
       "      <th>1</th>\n",
       "      <td>Launch your own delivery service. This will sh...</td>\n",
       "      <td>2</td>\n",
       "      <td>5</td>\n",
       "      <td>4</td>\n",
       "      <td>10</td>\n",
       "    </tr>\n",
       "    <tr>\n",
       "      <th>2</th>\n",
       "      <td>Add product recommendation blocks to the store...</td>\n",
       "      <td>8</td>\n",
       "      <td>3</td>\n",
       "      <td>7</td>\n",
       "      <td>3</td>\n",
       "    </tr>\n",
       "    <tr>\n",
       "      <th>3</th>\n",
       "      <td>Change the category structure. This will incre...</td>\n",
       "      <td>8</td>\n",
       "      <td>3</td>\n",
       "      <td>3</td>\n",
       "      <td>8</td>\n",
       "    </tr>\n",
       "    <tr>\n",
       "      <th>4</th>\n",
       "      <td>Change the background color on the main page. ...</td>\n",
       "      <td>3</td>\n",
       "      <td>1</td>\n",
       "      <td>1</td>\n",
       "      <td>1</td>\n",
       "    </tr>\n",
       "  </tbody>\n",
       "</table>\n",
       "</div>"
      ],
      "text/plain": [
       "                                          hypothesis  reach  impact  \\\n",
       "0  Add two new channels for attracting traffic. T...      3      10   \n",
       "1  Launch your own delivery service. This will sh...      2       5   \n",
       "2  Add product recommendation blocks to the store...      8       3   \n",
       "3  Change the category structure. This will incre...      8       3   \n",
       "4  Change the background color on the main page. ...      3       1   \n",
       "\n",
       "   confidence  effort  \n",
       "0           8       6  \n",
       "1           4      10  \n",
       "2           7       3  \n",
       "3           3       8  \n",
       "4           1       1  "
      ]
     },
     "execution_count": 119,
     "metadata": {},
     "output_type": "execute_result"
    }
   ],
   "source": [
    "# Veamos nuestro Dataframe a utilizar\n",
    "Hypotheses.head()"
   ]
  },
  {
   "cell_type": "markdown",
   "metadata": {},
   "source": [
    "Tengamos en cuenta los componentes para calcular nuestras métricas **ICE y RICE**:\n",
    "\n",
    "- Reach (Alcance): cuántos usuarios se verán afectados por la actualización que quieres introducir\n",
    "- Impact (Impacto): en qué medida afectará esta actualización a los usuarios, su experiencia y su satisfacción con el producto\n",
    "- Confidence (Confianza): qué tan seguro estás de que tu producto les afectará de esta manera\n",
    "- Effort (Esfuerzo): cuánto costará probar la hipótesis"
   ]
  },
  {
   "cell_type": "code",
   "execution_count": 120,
   "metadata": {
    "scrolled": true
   },
   "outputs": [
    {
     "name": "stdout",
     "output_type": "stream",
     "text": [
      "                                          hypothesis        ICE\n",
      "8  Launch a promotion that gives users discounts ...  16.200000\n",
      "0  Add two new channels for attracting traffic. T...  13.333333\n",
      "7  Add a subscription form to all the main pages....  11.200000\n",
      "6  Show banners with current offers and sales on ...   8.000000\n",
      "2  Add product recommendation blocks to the store...   7.000000\n",
      "1  Launch your own delivery service. This will sh...   2.000000\n",
      "5  Add a customer review page. This will increase...   1.333333\n",
      "3  Change the category structure. This will incre...   1.125000\n",
      "4  Change the background color on the main page. ...   1.000000\n"
     ]
    }
   ],
   "source": [
    "# 1. Calcula el ICE para las hipótesis\n",
    "Hypotheses['ICE'] = (Hypotheses['impact']*Hypotheses['confidence'])/Hypotheses['effort']\n",
    "\n",
    "sorted_data = Hypotheses.sort_values(by='ICE', ascending=False)\n",
    "print(Hypotheses[['hypothesis','ICE']].sort_values(by='ICE', ascending=False))"
   ]
  },
  {
   "cell_type": "code",
   "execution_count": 121,
   "metadata": {},
   "outputs": [
    {
     "name": "stdout",
     "output_type": "stream",
     "text": [
      "                                          hypothesis   RICE\n",
      "7  Add a subscription form to all the main pages....  112.0\n",
      "2  Add product recommendation blocks to the store...   56.0\n",
      "0  Add two new channels for attracting traffic. T...   40.0\n",
      "6  Show banners with current offers and sales on ...   40.0\n",
      "8  Launch a promotion that gives users discounts ...   16.2\n",
      "3  Change the category structure. This will incre...    9.0\n",
      "1  Launch your own delivery service. This will sh...    4.0\n",
      "5  Add a customer review page. This will increase...    4.0\n",
      "4  Change the background color on the main page. ...    3.0\n"
     ]
    }
   ],
   "source": [
    "# 2. Calcula el RICE para las hipótesis\n",
    "Hypotheses['RICE'] = (Hypotheses['reach']*Hypotheses['impact']*Hypotheses['confidence'])/Hypotheses['effort']\n",
    "print(Hypotheses[['hypothesis', 'RICE']].sort_values(by='RICE', ascending=False))"
   ]
  },
  {
   "cell_type": "code",
   "execution_count": 122,
   "metadata": {
    "scrolled": true
   },
   "outputs": [
    {
     "data": {
      "text/html": [
       "<div>\n",
       "<style scoped>\n",
       "    .dataframe tbody tr th:only-of-type {\n",
       "        vertical-align: middle;\n",
       "    }\n",
       "\n",
       "    .dataframe tbody tr th {\n",
       "        vertical-align: top;\n",
       "    }\n",
       "\n",
       "    .dataframe thead th {\n",
       "        text-align: right;\n",
       "    }\n",
       "</style>\n",
       "<table border=\"1\" class=\"dataframe\">\n",
       "  <thead>\n",
       "    <tr style=\"text-align: right;\">\n",
       "      <th></th>\n",
       "      <th>hypothesis</th>\n",
       "      <th>reach</th>\n",
       "      <th>impact</th>\n",
       "      <th>confidence</th>\n",
       "      <th>effort</th>\n",
       "      <th>ICE</th>\n",
       "      <th>RICE</th>\n",
       "    </tr>\n",
       "  </thead>\n",
       "  <tbody>\n",
       "    <tr>\n",
       "      <th>0</th>\n",
       "      <td>Add two new channels for attracting traffic. T...</td>\n",
       "      <td>3</td>\n",
       "      <td>10</td>\n",
       "      <td>8</td>\n",
       "      <td>6</td>\n",
       "      <td>13.333333</td>\n",
       "      <td>40.0</td>\n",
       "    </tr>\n",
       "    <tr>\n",
       "      <th>1</th>\n",
       "      <td>Launch your own delivery service. This will sh...</td>\n",
       "      <td>2</td>\n",
       "      <td>5</td>\n",
       "      <td>4</td>\n",
       "      <td>10</td>\n",
       "      <td>2.000000</td>\n",
       "      <td>4.0</td>\n",
       "    </tr>\n",
       "    <tr>\n",
       "      <th>2</th>\n",
       "      <td>Add product recommendation blocks to the store...</td>\n",
       "      <td>8</td>\n",
       "      <td>3</td>\n",
       "      <td>7</td>\n",
       "      <td>3</td>\n",
       "      <td>7.000000</td>\n",
       "      <td>56.0</td>\n",
       "    </tr>\n",
       "    <tr>\n",
       "      <th>3</th>\n",
       "      <td>Change the category structure. This will incre...</td>\n",
       "      <td>8</td>\n",
       "      <td>3</td>\n",
       "      <td>3</td>\n",
       "      <td>8</td>\n",
       "      <td>1.125000</td>\n",
       "      <td>9.0</td>\n",
       "    </tr>\n",
       "    <tr>\n",
       "      <th>4</th>\n",
       "      <td>Change the background color on the main page. ...</td>\n",
       "      <td>3</td>\n",
       "      <td>1</td>\n",
       "      <td>1</td>\n",
       "      <td>1</td>\n",
       "      <td>1.000000</td>\n",
       "      <td>3.0</td>\n",
       "    </tr>\n",
       "    <tr>\n",
       "      <th>5</th>\n",
       "      <td>Add a customer review page. This will increase...</td>\n",
       "      <td>3</td>\n",
       "      <td>2</td>\n",
       "      <td>2</td>\n",
       "      <td>3</td>\n",
       "      <td>1.333333</td>\n",
       "      <td>4.0</td>\n",
       "    </tr>\n",
       "    <tr>\n",
       "      <th>6</th>\n",
       "      <td>Show banners with current offers and sales on ...</td>\n",
       "      <td>5</td>\n",
       "      <td>3</td>\n",
       "      <td>8</td>\n",
       "      <td>3</td>\n",
       "      <td>8.000000</td>\n",
       "      <td>40.0</td>\n",
       "    </tr>\n",
       "    <tr>\n",
       "      <th>7</th>\n",
       "      <td>Add a subscription form to all the main pages....</td>\n",
       "      <td>10</td>\n",
       "      <td>7</td>\n",
       "      <td>8</td>\n",
       "      <td>5</td>\n",
       "      <td>11.200000</td>\n",
       "      <td>112.0</td>\n",
       "    </tr>\n",
       "    <tr>\n",
       "      <th>8</th>\n",
       "      <td>Launch a promotion that gives users discounts ...</td>\n",
       "      <td>1</td>\n",
       "      <td>9</td>\n",
       "      <td>9</td>\n",
       "      <td>5</td>\n",
       "      <td>16.200000</td>\n",
       "      <td>16.2</td>\n",
       "    </tr>\n",
       "  </tbody>\n",
       "</table>\n",
       "</div>"
      ],
      "text/plain": [
       "                                          hypothesis  reach  impact  \\\n",
       "0  Add two new channels for attracting traffic. T...      3      10   \n",
       "1  Launch your own delivery service. This will sh...      2       5   \n",
       "2  Add product recommendation blocks to the store...      8       3   \n",
       "3  Change the category structure. This will incre...      8       3   \n",
       "4  Change the background color on the main page. ...      3       1   \n",
       "5  Add a customer review page. This will increase...      3       2   \n",
       "6  Show banners with current offers and sales on ...      5       3   \n",
       "7  Add a subscription form to all the main pages....     10       7   \n",
       "8  Launch a promotion that gives users discounts ...      1       9   \n",
       "\n",
       "   confidence  effort        ICE   RICE  \n",
       "0           8       6  13.333333   40.0  \n",
       "1           4      10   2.000000    4.0  \n",
       "2           7       3   7.000000   56.0  \n",
       "3           3       8   1.125000    9.0  \n",
       "4           1       1   1.000000    3.0  \n",
       "5           2       3   1.333333    4.0  \n",
       "6           8       3   8.000000   40.0  \n",
       "7           8       5  11.200000  112.0  \n",
       "8           9       5  16.200000   16.2  "
      ]
     },
     "execution_count": 122,
     "metadata": {},
     "output_type": "execute_result"
    }
   ],
   "source": [
    "# Veamos la estructura de nuestro Dataframe\n",
    "Hypotheses"
   ]
  },
  {
   "cell_type": "markdown",
   "metadata": {},
   "source": [
    "- 3. Mostrar cómo cambia la priorización de hipótesis cuando utilizas RICE en lugar de ICE.\n",
    "\n",
    "Al utilizar RICE en lugar de ICE, podemos ver que la priorización de hipótesis se ve afectada. La hipótesis que antes ocupaba el **primer lugar en ICE, que era \"Launch a promotion that gives users discounts\"**, ahora ocupa el **quinto lugar en RICE**.\n",
    "\n",
    "La razón de este cambio se debe a que la métrica RICE también tiene en cuenta el factor de alcance en el cálculo. Las hipótesis que tienen un alcance más amplio (mayor valor de Reach) obtienen una mayor prioridad en la métrica RICE. Esto puede explicar por qué la hipótesis **\"Add a subscription form to all the main pages\" ahora ocupa el primer lugar, ya que tiene un alto alcance (Reach: 10) y un impacto e influencia significativos.**\n",
    "\n",
    "En resumen, al utilizar RICE en lugar de ICE, la priorización de hipótesis se ve afectada debido a la inclusión del factor de alcance en el cálculo. Esto nos permite considerar no solo el impacto y la confianza, sino también el alcance potencial de cada hipótesis al tomar decisiones de priorización."
   ]
  },
  {
   "cell_type": "markdown",
   "metadata": {},
   "source": [
    "## Análisis de test A/B"
   ]
  },
  {
   "cell_type": "markdown",
   "metadata": {},
   "source": [
    "Tenemos que tener en cuenta que se realizó un test A/B y obtuvimos los resultados descritos en los archivos 'orders_us.csv' y 'visitors_us.csv'."
   ]
  },
  {
   "cell_type": "markdown",
   "metadata": {},
   "source": [
    "Analiza el test A/B:\n",
    "\n",
    "1. Representa gráficamente el ingreso acumulado por grupo. Haz conclusiones y conjeturas.\n",
    "2. Representa gráficamente el tamaño de pedido promedio acumulado por grupo. Haz conclusiones y conjeturas.\n",
    "3. Representa gráficamente la diferencia relativa en el tamaño de pedido promedio acumulado para el grupo B en comparación con el grupo A. Haz conclusiones y conjeturas.\n",
    "4. Calcula la tasa de conversión de cada grupo como la relación entre los pedidos y el número de visitas de cada día. Representa gráficamente las tasas de conversión diarias de los dos grupos y describe la diferencia. Saca conclusiones y haz conjeturas.\n",
    "5. Traza un gráfico de dispersión del número de pedidos por usuario. Haz conclusiones y conjeturas.\n",
    "6. Calcula los percentiles 95 y 99 para el número de pedidos por usuario. Define el punto en el cual un punto de datos se convierte en una anomalía.\n",
    "7. Traza un gráfico de dispersión de los precios de los pedidos. Haz conclusiones y conjeturas.\n",
    "8. Calcula los percentiles 95 y 99 de los precios de los pedidos. Define el punto en el cual un punto de datos se convierte en una anomalía.\n",
    "9. Encuentra la significancia estadística de la diferencia en la conversión entre los grupos utilizando los datos en bruto. Haz conclusiones y conjeturas.\n",
    "10. Encuentra la significancia estadística de la diferencia en el tamaño promedio de pedido entre los grupos utilizando los datos en bruto. Haz conclusiones y conjeturas.\n",
    "11. Encuentra la significancia estadística de la diferencia en la conversión entre los grupos utilizando los datos filtrados. Haz conclusiones y conjeturas.\n",
    "12. Encuentra la significancia estadística de la diferencia en el tamaño promedio de pedido entre los grupos utilizando los datos filtrados. Haz conclusiones y conjeturas.\n",
    "13. Toma una decisión basada en los resultados de la prueba. Las decisiones posibles son: 1. Para la prueba, considera a uno de los grupos como líder. 2. Para la prueba, concluye que no hay diferencia entre los grupos. 3. Continúa la prueba."
   ]
  },
  {
   "cell_type": "markdown",
   "metadata": {},
   "source": [
    "Para poder realizar el Análisis de test A/B, primero debemos analizar de manera gráfica la estabilidad de las métricas acumuladas, esto para poder evitar el **peeking problem**. "
   ]
  },
  {
   "cell_type": "markdown",
   "metadata": {},
   "source": [
    "Veamos nuestros Dataframes a utilizar"
   ]
  },
  {
   "cell_type": "code",
   "execution_count": 123,
   "metadata": {},
   "outputs": [
    {
     "data": {
      "text/html": [
       "<div>\n",
       "<style scoped>\n",
       "    .dataframe tbody tr th:only-of-type {\n",
       "        vertical-align: middle;\n",
       "    }\n",
       "\n",
       "    .dataframe tbody tr th {\n",
       "        vertical-align: top;\n",
       "    }\n",
       "\n",
       "    .dataframe thead th {\n",
       "        text-align: right;\n",
       "    }\n",
       "</style>\n",
       "<table border=\"1\" class=\"dataframe\">\n",
       "  <thead>\n",
       "    <tr style=\"text-align: right;\">\n",
       "      <th></th>\n",
       "      <th>transactionId</th>\n",
       "      <th>visitorId</th>\n",
       "      <th>date</th>\n",
       "      <th>revenue</th>\n",
       "      <th>group</th>\n",
       "    </tr>\n",
       "  </thead>\n",
       "  <tbody>\n",
       "    <tr>\n",
       "      <th>0</th>\n",
       "      <td>3667963787</td>\n",
       "      <td>3312258926</td>\n",
       "      <td>2019-08-15</td>\n",
       "      <td>30.4</td>\n",
       "      <td>B</td>\n",
       "    </tr>\n",
       "    <tr>\n",
       "      <th>1</th>\n",
       "      <td>2804400009</td>\n",
       "      <td>3642806036</td>\n",
       "      <td>2019-08-15</td>\n",
       "      <td>15.2</td>\n",
       "      <td>B</td>\n",
       "    </tr>\n",
       "    <tr>\n",
       "      <th>3</th>\n",
       "      <td>3797467345</td>\n",
       "      <td>1196621759</td>\n",
       "      <td>2019-08-15</td>\n",
       "      <td>155.1</td>\n",
       "      <td>B</td>\n",
       "    </tr>\n",
       "    <tr>\n",
       "      <th>4</th>\n",
       "      <td>2282983706</td>\n",
       "      <td>2322279887</td>\n",
       "      <td>2019-08-15</td>\n",
       "      <td>40.5</td>\n",
       "      <td>B</td>\n",
       "    </tr>\n",
       "    <tr>\n",
       "      <th>5</th>\n",
       "      <td>182168103</td>\n",
       "      <td>935554773</td>\n",
       "      <td>2019-08-15</td>\n",
       "      <td>35.0</td>\n",
       "      <td>B</td>\n",
       "    </tr>\n",
       "  </tbody>\n",
       "</table>\n",
       "</div>"
      ],
      "text/plain": [
       "   transactionId   visitorId       date  revenue group\n",
       "0     3667963787  3312258926 2019-08-15     30.4     B\n",
       "1     2804400009  3642806036 2019-08-15     15.2     B\n",
       "3     3797467345  1196621759 2019-08-15    155.1     B\n",
       "4     2282983706  2322279887 2019-08-15     40.5     B\n",
       "5      182168103   935554773 2019-08-15     35.0     B"
      ]
     },
     "execution_count": 123,
     "metadata": {},
     "output_type": "execute_result"
    }
   ],
   "source": [
    "orders_filtered.head()"
   ]
  },
  {
   "cell_type": "code",
   "execution_count": 124,
   "metadata": {},
   "outputs": [
    {
     "data": {
      "text/html": [
       "<div>\n",
       "<style scoped>\n",
       "    .dataframe tbody tr th:only-of-type {\n",
       "        vertical-align: middle;\n",
       "    }\n",
       "\n",
       "    .dataframe tbody tr th {\n",
       "        vertical-align: top;\n",
       "    }\n",
       "\n",
       "    .dataframe thead th {\n",
       "        text-align: right;\n",
       "    }\n",
       "</style>\n",
       "<table border=\"1\" class=\"dataframe\">\n",
       "  <thead>\n",
       "    <tr style=\"text-align: right;\">\n",
       "      <th></th>\n",
       "      <th>date</th>\n",
       "      <th>group</th>\n",
       "      <th>visits</th>\n",
       "    </tr>\n",
       "  </thead>\n",
       "  <tbody>\n",
       "    <tr>\n",
       "      <th>0</th>\n",
       "      <td>2019-08-01</td>\n",
       "      <td>A</td>\n",
       "      <td>719</td>\n",
       "    </tr>\n",
       "    <tr>\n",
       "      <th>1</th>\n",
       "      <td>2019-08-02</td>\n",
       "      <td>A</td>\n",
       "      <td>619</td>\n",
       "    </tr>\n",
       "    <tr>\n",
       "      <th>2</th>\n",
       "      <td>2019-08-03</td>\n",
       "      <td>A</td>\n",
       "      <td>507</td>\n",
       "    </tr>\n",
       "    <tr>\n",
       "      <th>3</th>\n",
       "      <td>2019-08-04</td>\n",
       "      <td>A</td>\n",
       "      <td>717</td>\n",
       "    </tr>\n",
       "    <tr>\n",
       "      <th>4</th>\n",
       "      <td>2019-08-05</td>\n",
       "      <td>A</td>\n",
       "      <td>756</td>\n",
       "    </tr>\n",
       "  </tbody>\n",
       "</table>\n",
       "</div>"
      ],
      "text/plain": [
       "        date group  visits\n",
       "0 2019-08-01     A     719\n",
       "1 2019-08-02     A     619\n",
       "2 2019-08-03     A     507\n",
       "3 2019-08-04     A     717\n",
       "4 2019-08-05     A     756"
      ]
     },
     "execution_count": 124,
     "metadata": {},
     "output_type": "execute_result"
    }
   ],
   "source": [
    "visits.head()"
   ]
  },
  {
   "cell_type": "markdown",
   "metadata": {},
   "source": [
    "Vamos a crear un DataFrame llamado **datesGroups** con parejas de valores únicos de 'date' y 'group' de la tabla orders. Despues vamos a declarar la variable **ordersAggregated** para almacenar:\n",
    "- la fecha\n",
    "- el grupo del test A/B\n",
    "- el número de pedidos distintos para el grupo de prueba hasta la fecha especificada incluida\n",
    "- el número de usuarios distintos en el grupo de prueba que realizan al menos un pedido hasta la fecha especificada incluida\n",
    "- ingresos totales de pedidos en el grupo de prueba hasta la fecha especificada incluida"
   ]
  },
  {
   "cell_type": "code",
   "execution_count": 125,
   "metadata": {},
   "outputs": [
    {
     "data": {
      "text/html": [
       "<div>\n",
       "<style scoped>\n",
       "    .dataframe tbody tr th:only-of-type {\n",
       "        vertical-align: middle;\n",
       "    }\n",
       "\n",
       "    .dataframe tbody tr th {\n",
       "        vertical-align: top;\n",
       "    }\n",
       "\n",
       "    .dataframe thead th {\n",
       "        text-align: right;\n",
       "    }\n",
       "</style>\n",
       "<table border=\"1\" class=\"dataframe\">\n",
       "  <thead>\n",
       "    <tr style=\"text-align: right;\">\n",
       "      <th></th>\n",
       "      <th>date</th>\n",
       "      <th>group</th>\n",
       "      <th>transactionId</th>\n",
       "      <th>visitorId</th>\n",
       "      <th>revenue</th>\n",
       "    </tr>\n",
       "  </thead>\n",
       "  <tbody>\n",
       "    <tr>\n",
       "      <th>55</th>\n",
       "      <td>2019-08-01</td>\n",
       "      <td>A</td>\n",
       "      <td>23</td>\n",
       "      <td>19</td>\n",
       "      <td>2266.6</td>\n",
       "    </tr>\n",
       "    <tr>\n",
       "      <th>66</th>\n",
       "      <td>2019-08-01</td>\n",
       "      <td>B</td>\n",
       "      <td>17</td>\n",
       "      <td>17</td>\n",
       "      <td>967.2</td>\n",
       "    </tr>\n",
       "    <tr>\n",
       "      <th>175</th>\n",
       "      <td>2019-08-02</td>\n",
       "      <td>A</td>\n",
       "      <td>42</td>\n",
       "      <td>36</td>\n",
       "      <td>3734.9</td>\n",
       "    </tr>\n",
       "    <tr>\n",
       "      <th>173</th>\n",
       "      <td>2019-08-02</td>\n",
       "      <td>B</td>\n",
       "      <td>40</td>\n",
       "      <td>39</td>\n",
       "      <td>3535.3</td>\n",
       "    </tr>\n",
       "    <tr>\n",
       "      <th>291</th>\n",
       "      <td>2019-08-03</td>\n",
       "      <td>A</td>\n",
       "      <td>66</td>\n",
       "      <td>60</td>\n",
       "      <td>5550.1</td>\n",
       "    </tr>\n",
       "  </tbody>\n",
       "</table>\n",
       "</div>"
      ],
      "text/plain": [
       "          date group  transactionId  visitorId  revenue\n",
       "55  2019-08-01     A             23         19   2266.6\n",
       "66  2019-08-01     B             17         17    967.2\n",
       "175 2019-08-02     A             42         36   3734.9\n",
       "173 2019-08-02     B             40         39   3535.3\n",
       "291 2019-08-03     A             66         60   5550.1"
      ]
     },
     "execution_count": 125,
     "metadata": {},
     "output_type": "execute_result"
    }
   ],
   "source": [
    "datesGroups = orders_filtered[['date', 'group']].drop_duplicates()\n",
    "ordersAggregated = datesGroups.apply(lambda x: orders_filtered[np.logical_and(orders_filtered['date'] <= x['date'], orders_filtered['group'] == x['group'])].agg({'date' : 'max', 'group' : 'max', 'transactionId' : pd.Series.nunique, 'visitorId' : pd.Series.nunique, 'revenue' : 'sum'}), axis=1).sort_values(by=['date','group'])\n",
    "ordersAggregated.head()"
   ]
  },
  {
   "cell_type": "markdown",
   "metadata": {},
   "source": [
    "Ahora, vamos a declarar la variable **visitorsAggregated** para almacenar:\n",
    "- la fecha\n",
    "- el grupo del test A/B\n",
    "- el número de pedidos distintos para el grupo de prueba hasta la fecha especificada incluida"
   ]
  },
  {
   "cell_type": "code",
   "execution_count": 126,
   "metadata": {},
   "outputs": [
    {
     "data": {
      "text/html": [
       "<div>\n",
       "<style scoped>\n",
       "    .dataframe tbody tr th:only-of-type {\n",
       "        vertical-align: middle;\n",
       "    }\n",
       "\n",
       "    .dataframe tbody tr th {\n",
       "        vertical-align: top;\n",
       "    }\n",
       "\n",
       "    .dataframe thead th {\n",
       "        text-align: right;\n",
       "    }\n",
       "</style>\n",
       "<table border=\"1\" class=\"dataframe\">\n",
       "  <thead>\n",
       "    <tr style=\"text-align: right;\">\n",
       "      <th></th>\n",
       "      <th>date</th>\n",
       "      <th>group</th>\n",
       "      <th>visits</th>\n",
       "    </tr>\n",
       "  </thead>\n",
       "  <tbody>\n",
       "    <tr>\n",
       "      <th>55</th>\n",
       "      <td>2019-08-01</td>\n",
       "      <td>A</td>\n",
       "      <td>719</td>\n",
       "    </tr>\n",
       "    <tr>\n",
       "      <th>66</th>\n",
       "      <td>2019-08-01</td>\n",
       "      <td>B</td>\n",
       "      <td>713</td>\n",
       "    </tr>\n",
       "    <tr>\n",
       "      <th>175</th>\n",
       "      <td>2019-08-02</td>\n",
       "      <td>A</td>\n",
       "      <td>1338</td>\n",
       "    </tr>\n",
       "    <tr>\n",
       "      <th>173</th>\n",
       "      <td>2019-08-02</td>\n",
       "      <td>B</td>\n",
       "      <td>1294</td>\n",
       "    </tr>\n",
       "    <tr>\n",
       "      <th>291</th>\n",
       "      <td>2019-08-03</td>\n",
       "      <td>A</td>\n",
       "      <td>1845</td>\n",
       "    </tr>\n",
       "  </tbody>\n",
       "</table>\n",
       "</div>"
      ],
      "text/plain": [
       "          date group  visits\n",
       "55  2019-08-01     A     719\n",
       "66  2019-08-01     B     713\n",
       "175 2019-08-02     A    1338\n",
       "173 2019-08-02     B    1294\n",
       "291 2019-08-03     A    1845"
      ]
     },
     "execution_count": 126,
     "metadata": {},
     "output_type": "execute_result"
    }
   ],
   "source": [
    "visitorsAggregated = datesGroups.apply(lambda x: visits[np.logical_and(visits['date'] <= x['date'], visits['group'] == x['group'])].agg({'date' : 'max', 'group' : 'max', 'visits' : 'sum'}), axis=1).sort_values(by=['date','group'])\n",
    "visitorsAggregated.head()"
   ]
  },
  {
   "cell_type": "markdown",
   "metadata": {},
   "source": [
    "Bien, ahora vamos a combinar la tabla **ordersAggregated** y la tabla **visitorsAggregated** y vamos a asignar los nombres ['date', 'group', 'orders', 'buyers', 'revenue', 'visitors'] a las columnas en 'cumulativeData'."
   ]
  },
  {
   "cell_type": "code",
   "execution_count": 127,
   "metadata": {},
   "outputs": [
    {
     "data": {
      "text/html": [
       "<div>\n",
       "<style scoped>\n",
       "    .dataframe tbody tr th:only-of-type {\n",
       "        vertical-align: middle;\n",
       "    }\n",
       "\n",
       "    .dataframe tbody tr th {\n",
       "        vertical-align: top;\n",
       "    }\n",
       "\n",
       "    .dataframe thead th {\n",
       "        text-align: right;\n",
       "    }\n",
       "</style>\n",
       "<table border=\"1\" class=\"dataframe\">\n",
       "  <thead>\n",
       "    <tr style=\"text-align: right;\">\n",
       "      <th></th>\n",
       "      <th>date</th>\n",
       "      <th>group</th>\n",
       "      <th>orders</th>\n",
       "      <th>buyers</th>\n",
       "      <th>revenue</th>\n",
       "      <th>visitors</th>\n",
       "    </tr>\n",
       "  </thead>\n",
       "  <tbody>\n",
       "    <tr>\n",
       "      <th>0</th>\n",
       "      <td>2019-08-01</td>\n",
       "      <td>A</td>\n",
       "      <td>23</td>\n",
       "      <td>19</td>\n",
       "      <td>2266.6</td>\n",
       "      <td>719</td>\n",
       "    </tr>\n",
       "    <tr>\n",
       "      <th>1</th>\n",
       "      <td>2019-08-01</td>\n",
       "      <td>B</td>\n",
       "      <td>17</td>\n",
       "      <td>17</td>\n",
       "      <td>967.2</td>\n",
       "      <td>713</td>\n",
       "    </tr>\n",
       "    <tr>\n",
       "      <th>2</th>\n",
       "      <td>2019-08-02</td>\n",
       "      <td>A</td>\n",
       "      <td>42</td>\n",
       "      <td>36</td>\n",
       "      <td>3734.9</td>\n",
       "      <td>1338</td>\n",
       "    </tr>\n",
       "    <tr>\n",
       "      <th>3</th>\n",
       "      <td>2019-08-02</td>\n",
       "      <td>B</td>\n",
       "      <td>40</td>\n",
       "      <td>39</td>\n",
       "      <td>3535.3</td>\n",
       "      <td>1294</td>\n",
       "    </tr>\n",
       "    <tr>\n",
       "      <th>4</th>\n",
       "      <td>2019-08-03</td>\n",
       "      <td>A</td>\n",
       "      <td>66</td>\n",
       "      <td>60</td>\n",
       "      <td>5550.1</td>\n",
       "      <td>1845</td>\n",
       "    </tr>\n",
       "  </tbody>\n",
       "</table>\n",
       "</div>"
      ],
      "text/plain": [
       "        date group  orders  buyers  revenue  visitors\n",
       "0 2019-08-01     A      23      19   2266.6       719\n",
       "1 2019-08-01     B      17      17    967.2       713\n",
       "2 2019-08-02     A      42      36   3734.9      1338\n",
       "3 2019-08-02     B      40      39   3535.3      1294\n",
       "4 2019-08-03     A      66      60   5550.1      1845"
      ]
     },
     "execution_count": 127,
     "metadata": {},
     "output_type": "execute_result"
    }
   ],
   "source": [
    "cumulativeData = ordersAggregated.merge(visitorsAggregated, left_on=['date', 'group'], right_on=['date', 'group'])\n",
    "cumulativeData.columns = ['date', 'group', 'orders', 'buyers', 'revenue', 'visitors']\n",
    "cumulativeData.head()"
   ]
  },
  {
   "cell_type": "markdown",
   "metadata": {},
   "source": [
    "Perfecto, con estas tablas combinadas ahora podemos declarar las variables **cumulativeRevenueA y cumulativeRevenueB**, donde se almacenarán los datos sobre fechas, ingresos y número de pedidos para los grupos A y B.\n",
    "Esto nos ayudará a responder el primer punto; **Representa gráficamente el ingreso acumulado por grupo.**"
   ]
  },
  {
   "cell_type": "markdown",
   "metadata": {},
   "source": [
    "# Ingreso acumulado por grupo"
   ]
  },
  {
   "cell_type": "code",
   "execution_count": 128,
   "metadata": {},
   "outputs": [
    {
     "data": {
      "text/plain": [
       "<matplotlib.legend.Legend at 0x7ff90d671e20>"
      ]
     },
     "execution_count": 128,
     "metadata": {},
     "output_type": "execute_result"
    },
    {
     "data": {
      "image/png": "[encoded data removed]",
      "text/plain": [
       "<Figure size 936x576 with 1 Axes>"
      ]
     },
     "metadata": {
      "needs_background": "light"
     },
     "output_type": "display_data"
    }
   ],
   "source": [
    "cumulativeRevenueA = cumulativeData[cumulativeData['group']=='A'][['date','revenue', 'orders']]\n",
    "cumulativeRevenueB = cumulativeData[cumulativeData['group']=='B'][['date','revenue', 'orders']]\n",
    "\n",
    "plt.figure(figsize=(13, 8))\n",
    "plt.plot(cumulativeRevenueA['date'], cumulativeRevenueA['revenue'], label='A')\n",
    "plt.plot(cumulativeRevenueB['date'], cumulativeRevenueB['revenue'], label='B')\n",
    "plt.legend()"
   ]
  },
  {
   "cell_type": "markdown",
   "metadata": {},
   "source": [
    "Podemos ver que al principio ambos grupos estaban creciendo de manera similar y así continuaron hasta el **18-08-2019** aproximadamente, a partir de ahí el **grupo 'B' tuvo un crecimiento** bastante considerable a comparación del grupo 'A' lo cual se puede explicar debido a pedidos anormalmente grandes."
   ]
  },
  {
   "cell_type": "markdown",
   "metadata": {},
   "source": [
    "Ahora podemos pasar a buscar y graficar el tamaño de pedido promedio acumulado por grupo a continuación."
   ]
  },
  {
   "cell_type": "markdown",
   "metadata": {},
   "source": [
    "# Tamaño de pedido promedio acumulado por grupo"
   ]
  },
  {
   "cell_type": "code",
   "execution_count": 129,
   "metadata": {},
   "outputs": [
    {
     "data": {
      "text/plain": [
       "<matplotlib.legend.Legend at 0x7ff90df12430>"
      ]
     },
     "execution_count": 129,
     "metadata": {},
     "output_type": "execute_result"
    },
    {
     "data": {
      "image/png": "[encoded data removed]",
      "text/plain": [
       "<Figure size 936x576 with 1 Axes>"
      ]
     },
     "metadata": {
      "needs_background": "light"
     },
     "output_type": "display_data"
    }
   ],
   "source": [
    "plt.figure(figsize=(13, 8))\n",
    "plt.plot(cumulativeRevenueA['date'], cumulativeRevenueA['revenue']/cumulativeRevenueA['orders'], label='A')\n",
    "plt.plot(cumulativeRevenueB['date'], cumulativeRevenueB['revenue']/cumulativeRevenueB['orders'], label='B')\n",
    "plt.legend()"
   ]
  },
  {
   "cell_type": "markdown",
   "metadata": {},
   "source": [
    "Con el tamaño de pedido promedio acumulado por grupo, podemos ver que al igual que en la gráfica anterior, cerca del **18-08-2019** el grupo 'B' tuvo un crecimiento considerable afectando positivamente el tamaño de compra promedio."
   ]
  },
  {
   "cell_type": "markdown",
   "metadata": {},
   "source": [
    "# Diferencia relativa en el tamaño de pedido promedio acumulado para el grupo B en comparación con el grupo A"
   ]
  },
  {
   "cell_type": "code",
   "execution_count": 130,
   "metadata": {},
   "outputs": [
    {
     "data": {
      "text/plain": [
       "<matplotlib.lines.Line2D at 0x7ff90d7d0130>"
      ]
     },
     "execution_count": 130,
     "metadata": {},
     "output_type": "execute_result"
    },
    {
     "data": {
      "image/png": "[encoded data removed]",
      "text/plain": [
       "<Figure size 936x576 with 1 Axes>"
      ]
     },
     "metadata": {
      "needs_background": "light"
     },
     "output_type": "display_data"
    }
   ],
   "source": [
    "mergedCumulativeRevenue = cumulativeRevenueA.merge(cumulativeRevenueB, left_on='date', right_on='date', how='left', suffixes=['A', 'B'])\n",
    "\n",
    "plt.figure(figsize=(13, 8))\n",
    "plt.plot(mergedCumulativeRevenue['date'], (mergedCumulativeRevenue['revenueB']/mergedCumulativeRevenue['ordersB'])/(mergedCumulativeRevenue['revenueA']/mergedCumulativeRevenue['ordersA'])-1)\n",
    "plt.axhline(y=0, color='black', linestyle='--')"
   ]
  },
  {
   "cell_type": "markdown",
   "metadata": {},
   "source": [
    "Al observar el gráfico, la diferencia en los **tamaños de pedido promedio acumulados para cada grupo, fluctuan bastante y repentinamente con el paso del tiempo**, esto muy probablemente sea por los pedidos anormalmente grandes. Tengamos eso en cuenta para poder sacar conclusiones futuras y realizar un acercamiento con datos aporpiados, es decir; evaluar si rquerimos no tomar en cuenta los pedidos anormalmente grandes"
   ]
  },
  {
   "cell_type": "markdown",
   "metadata": {},
   "source": [
    "# Tasa de conversión de cada grupo"
   ]
  },
  {
   "cell_type": "markdown",
   "metadata": {},
   "source": [
    "En este punto tendremos tanto la tasa de conversión de cada grupo, como la relación entre los pedidos y el número de visitas de cada día para un grupo específico en una fecha específica."
   ]
  },
  {
   "cell_type": "code",
   "execution_count": 131,
   "metadata": {},
   "outputs": [
    {
     "data": {
      "text/plain": [
       "(18109.0, 18140.0, 0.0, 0.05)"
      ]
     },
     "execution_count": 131,
     "metadata": {},
     "output_type": "execute_result"
    },
    {
     "data": {
      "image/png": "[encoded data removed]",
      "text/plain": [
       "<Figure size 936x576 with 1 Axes>"
      ]
     },
     "metadata": {
      "needs_background": "light"
     },
     "output_type": "display_data"
    }
   ],
   "source": [
    "cumulativeData['conversion'] = cumulativeData['orders']/cumulativeData['visitors']\n",
    "\n",
    "cumulativeDataA = cumulativeData[cumulativeData['group']=='A']\n",
    "cumulativeDataB = cumulativeData[cumulativeData['group']=='B']\n",
    "\n",
    "plt.figure(figsize=(13, 8))\n",
    "plt.plot(cumulativeDataA['date'], cumulativeDataA['conversion'], label='A')\n",
    "plt.plot(cumulativeDataB['date'], cumulativeDataB['conversion'], label='B')\n",
    "plt.legend()\n",
    "\n",
    "plt.axis([pd.to_datetime('2019-08-01'), pd.to_datetime('2019-09-01'), 0, 0.05])"
   ]
  },
  {
   "cell_type": "markdown",
   "metadata": {},
   "source": [
    "Al inicio de la prubea, el segmento 'A' tenía una tasa de conversión más alta pero **el segmento 'B' ganó gradualmente** y se estabilizó en un valor casi constante al igual que el segmento 'A' pero de manera invertida."
   ]
  },
  {
   "cell_type": "markdown",
   "metadata": {},
   "source": [
    "# Gráfico de dispersión del número de pedidos por usuario."
   ]
  },
  {
   "cell_type": "markdown",
   "metadata": {},
   "source": [
    "Vamos a trazar la diferencia relativa entre la tasa de conversión acumulada del grupo B en comparación con la del grupo A."
   ]
  },
  {
   "cell_type": "code",
   "execution_count": 132,
   "metadata": {},
   "outputs": [
    {
     "name": "stderr",
     "output_type": "stream",
     "text": [
      "No handles with labels found to put in legend.\n"
     ]
    },
    {
     "data": {
      "text/plain": [
       "(18109.0, 18139.0, -0.5, 0.5)"
      ]
     },
     "execution_count": 132,
     "metadata": {},
     "output_type": "execute_result"
    },
    {
     "data": {
      "image/png": "[encoded data removed]",
      "text/plain": [
       "<Figure size 936x576 with 1 Axes>"
      ]
     },
     "metadata": {
      "needs_background": "light"
     },
     "output_type": "display_data"
    }
   ],
   "source": [
    "mergedCumulativeConversions = cumulativeDataA[['date','conversion']].merge(cumulativeDataB[['date','conversion']], left_on='date', right_on='date', how='left', suffixes=['A', 'B'])\n",
    "\n",
    "plt.figure(figsize=(13, 8))\n",
    "plt.plot(mergedCumulativeConversions['date'], mergedCumulativeConversions['conversionB']/mergedCumulativeConversions['conversionA']-1)\n",
    "plt.legend()\n",
    "\n",
    "plt.axhline(y=0, color='black', linestyle='--')\n",
    "plt.axhline(y=0.2, color='grey', linestyle='--')\n",
    "plt.axis([pd.to_datetime('2019-08-01'), pd.to_datetime('2019-08-31'), -0.5, 0.5])"
   ]
  },
  {
   "cell_type": "markdown",
   "metadata": {},
   "source": [
    "Como vemos, el principio de la prueba es muy diferente al resultado en general de la pruba, ya que el grupo 'B' en un inicio esta por debajo en comparación con el grupo 'A', con el tiempo el **grupo 'B' fue el que tomo la delantera y se mantuvo siendo el líder de conversión.**"
   ]
  },
  {
   "cell_type": "markdown",
   "metadata": {},
   "source": [
    "# Cálculo de percentiles 95 y 99 para el número de pedidos por usuario"
   ]
  },
  {
   "cell_type": "markdown",
   "metadata": {},
   "source": [
    "Para este punto vamos a analizar los valores atípicos y aumentos; es decir, **valores extremos** ya que estas 'anomalías' pueden distorsionar o causar errores en los resultados de una prueba A/B."
   ]
  },
  {
   "cell_type": "code",
   "execution_count": 133,
   "metadata": {},
   "outputs": [
    {
     "name": "stdout",
     "output_type": "stream",
     "text": [
      "      visitorId  orders\n",
      "908  3967698036       3\n",
      "55    249864742       3\n",
      "478  2108163459       3\n",
      "687  2988190573       3\n",
      "890  3908431265       3\n",
      "138   611059232       3\n",
      "632  2742574263       3\n",
      "157   678354126       2\n",
      "323  1404560065       2\n",
      "452  1985475298       2\n"
     ]
    }
   ],
   "source": [
    "# Vamos a encontrar el número de pedidos por usuario\n",
    "ordersByUsers = (orders_filtered.drop(['group', 'revenue', 'date'], axis=1).groupby('visitorId', as_index=False).agg({'transactionId': pd.Series.nunique}))\n",
    "ordersByUsers.columns = ['visitorId', 'orders']\n",
    "\n",
    "print(ordersByUsers.sort_values(by='orders', ascending=False).head(10))"
   ]
  },
  {
   "cell_type": "code",
   "execution_count": 134,
   "metadata": {},
   "outputs": [
    {
     "data": {
      "image/png": "[encoded data removed]",
      "text/plain": [
       "<Figure size 936x576 with 1 Axes>"
      ]
     },
     "metadata": {
      "needs_background": "light"
     },
     "output_type": "display_data"
    }
   ],
   "source": [
    "# Creamos un histograma\n",
    "plt.figure(figsize=(13, 8))\n",
    "x_values = pd.Series(range(0,len(ordersByUsers)))\n",
    "plt.scatter(x_values, ordersByUsers['orders'])\n",
    "plt.grid(True)"
   ]
  },
  {
   "cell_type": "code",
   "execution_count": 135,
   "metadata": {},
   "outputs": [
    {
     "name": "stdout",
     "output_type": "stream",
     "text": [
      "[1. 2.]\n"
     ]
    }
   ],
   "source": [
    "# Calculamos los percentiles 95 y 99 de la muestra para el número de pedidos por usuario\n",
    "print(np.percentile(ordersByUsers['orders'], [95, 99])) "
   ]
  },
  {
   "cell_type": "markdown",
   "metadata": {},
   "source": [
    "No más del 5% de los usuarios realizaron más de 1 pedido y no más del 1% de los usuarios realizaron más de 2 pedidos"
   ]
  },
  {
   "cell_type": "markdown",
   "metadata": {},
   "source": [
    "# Gráfico de dispersión de los precios de los pedidos"
   ]
  },
  {
   "cell_type": "code",
   "execution_count": 136,
   "metadata": {},
   "outputs": [
    {
     "data": {
      "image/png": "[encoded data removed]",
      "text/plain": [
       "<Figure size 936x576 with 1 Axes>"
      ]
     },
     "metadata": {
      "needs_background": "light"
     },
     "output_type": "display_data"
    }
   ],
   "source": [
    "plt.figure(figsize=(13, 8))\n",
    "x_values = pd.Series(range(0,len(orders_filtered['revenue'])))\n",
    "plt.scatter(x_values, orders_filtered['revenue'])\n",
    "plt.grid(True)"
   ]
  },
  {
   "cell_type": "code",
   "execution_count": 137,
   "metadata": {},
   "outputs": [
    {
     "data": {
      "text/plain": [
       "613       830.3\n",
       "940       905.8\n",
       "949       930.0\n",
       "1099     1015.9\n",
       "1103     1025.8\n",
       "743      1050.0\n",
       "744      1335.6\n",
       "1136     1425.8\n",
       "1196     3120.1\n",
       "425     19920.4\n",
       "Name: revenue, dtype: float64"
      ]
     },
     "execution_count": 137,
     "metadata": {},
     "output_type": "execute_result"
    }
   ],
   "source": [
    "# Veamos los valores atípicos de este gráfico exactos \n",
    "orders_filtered['revenue'].sort_values().tail(10)"
   ]
  },
  {
   "cell_type": "markdown",
   "metadata": {},
   "source": [
    "Como vemos, **la mayoría de los pedidos no son mayores a 1,000 unidades monetarias**. Tenemos valores atípicos de 3,120.1 y 19,920.4 que este último parece bastante anómalo."
   ]
  },
  {
   "cell_type": "markdown",
   "metadata": {},
   "source": [
    "# Calcula los percentiles 95 y 99 de los precios de los pedidos"
   ]
  },
  {
   "cell_type": "code",
   "execution_count": 138,
   "metadata": {},
   "outputs": [
    {
     "name": "stdout",
     "output_type": "stream",
     "text": [
      "[414.275 830.3  ]\n"
     ]
    }
   ],
   "source": [
    "print(np.percentile(orders_filtered['revenue'], [95, 99])) "
   ]
  },
  {
   "cell_type": "markdown",
   "metadata": {},
   "source": [
    "- El porcentaje del costo del pedido por encima de 414 unidades monetarias, no supera el 5%\n",
    "- El porcentaje del costo del pedido por encima de 830 unidades monetarias, no supera el 1%"
   ]
  },
  {
   "cell_type": "markdown",
   "metadata": {},
   "source": [
    "# Significancia estadística de la diferencia en la conversión entre los grupos utilizando los datos en bruto"
   ]
  },
  {
   "cell_type": "markdown",
   "metadata": {},
   "source": [
    "Vamos a buscar la diferencia relativa en la conversión entre los grupos con los datos en grupo, es decir, incluyendo los datos atípicos.\n",
    "\n",
    "Primero, crearemos las variables 'ordersByUsersA' y 'ordersByUsersB' para almacenar las columnas 'userId' y 'orders'. Para los usuarios con al menos un pedido, indicaremos el número de pedidos realizados."
   ]
  },
  {
   "cell_type": "code",
   "execution_count": 139,
   "metadata": {},
   "outputs": [
    {
     "name": "stdout",
     "output_type": "stream",
     "text": [
      "      visitorId  orders\n",
      "0      11685486       1\n",
      "1      54447517       1\n",
      "2      66685450       1\n",
      "3      78758296       1\n",
      "4      85103373       1\n",
      "..          ...     ...\n",
      "440  4227830084       1\n",
      "441  4237561104       1\n",
      "442  4243832526       1\n",
      "443  4259830713       1\n",
      "444  4278982564       1\n",
      "\n",
      "[445 rows x 2 columns]\n",
      "-------------------------\n",
      "      visitorId  orders\n",
      "0       5114589       1\n",
      "1       6958315       1\n",
      "2      39475350       1\n",
      "3      47206413       1\n",
      "4      48147722       1\n",
      "..          ...     ...\n",
      "523  4251115836       1\n",
      "524  4258103007       1\n",
      "525  4279090005       1\n",
      "526  4281247801       1\n",
      "527  4283872382       1\n",
      "\n",
      "[528 rows x 2 columns]\n"
     ]
    }
   ],
   "source": [
    "ordersByUsersA = orders_filtered[orders_filtered['group']=='A'].groupby('visitorId', as_index=False).agg({'transactionId' : pd.Series.nunique})\n",
    "ordersByUsersA.columns = ['visitorId', 'orders']\n",
    "\n",
    "ordersByUsersB = orders_filtered[orders_filtered['group']=='B'].groupby('visitorId', as_index=False).agg({'transactionId' : pd.Series.nunique})\n",
    "ordersByUsersB.columns = ['visitorId', 'orders']\n",
    "\n",
    "print(ordersByUsersA)\n",
    "print('-'*25)\n",
    "print(ordersByUsersB)"
   ]
  },
  {
   "cell_type": "markdown",
   "metadata": {},
   "source": [
    "Bien, ahora necesitamos calcular la significancia estadística de la diferencia en la conversión basada en los resultados aplicando la prueba de Mann-Whitney."
   ]
  },
  {
   "cell_type": "code",
   "execution_count": 140,
   "metadata": {},
   "outputs": [],
   "source": [
    "sampleA = pd.concat([ordersByUsersA['orders'],pd.Series(0, index=np.arange(visits[visits['group']=='A']['visits'].sum() - len(ordersByUsersA['orders'])), name='orders')],axis=0)\n",
    "\n",
    "sampleB = pd.concat([ordersByUsersB['orders'],pd.Series(0, index=np.arange(visits[visits['group']=='B']['visits'].sum() - len(ordersByUsersB['orders'])), name='orders')],axis=0) "
   ]
  },
  {
   "cell_type": "markdown",
   "metadata": {},
   "source": [
    "- **sampleA** y **sampleB** almacenan una muestra donde cada elemento es el número de pedidos realizados por cierto usuario.\n",
    "- El número de elementos de 'sampleA' es el número de usuarios, y la suma de todos los elementos es el número de pedidos. Para obtener la tasa de conversión del grupo, tendremos que dividir la suma de los pedidos entre la cantidad de usuarios.\n",
    "- Encontraremos la tasa de conversión para cada grupo = media\n",
    "- Para obtener la ganancia relativa de conversión para el grupo B utilizaremos la siguiente formula: **conversión del grupo B / conversión del grupo A - 1**"
   ]
  },
  {
   "cell_type": "code",
   "execution_count": 141,
   "metadata": {
    "scrolled": true
   },
   "outputs": [
    {
     "name": "stdout",
     "output_type": "stream",
     "text": [
      "Valor p = 0.01102 %\n",
      "Ganancia de conversión relativa del grupo B en comparación con el grupo A es de = 0.160 %\n"
     ]
    }
   ],
   "source": [
    "valor_p = \"{0:.5f}\".format(st.mannwhitneyu(sampleA, sampleB)[1])\n",
    "conversion_b = \"{0:.3f}\".format(sampleB.mean()/sampleA.mean()-1)\n",
    "print(f'Valor p =', valor_p,'%')\n",
    "print(f'Ganancia de conversión relativa del grupo B en comparación con el grupo A es de =', conversion_b,'%')"
   ]
  },
  {
   "cell_type": "markdown",
   "metadata": {},
   "source": [
    "El **valor p es menor a 0.05 por lo que rechazamos la hipótesis nula**"
   ]
  },
  {
   "cell_type": "markdown",
   "metadata": {},
   "source": [
    "# Significancia estadística de la diferencia en el tamaño promedio de pedido entre los grupos utilizando los datos en bruto"
   ]
  },
  {
   "cell_type": "markdown",
   "metadata": {},
   "source": [
    "Ahora, vamos a calcular la significancia estadística de la diferencia en el tamaño promedio de pedido entre los grupos incluyendo valores atípicos.\n",
    "\n",
    "El valor p nos va a ayudar a comparar los tamaños de pedido promedio de los grupos.\n",
    "También vamos a mostrar la ganancia relativa para el grupo B. y así comparar la diferencia entre ambos grupos."
   ]
  },
  {
   "cell_type": "code",
   "execution_count": 142,
   "metadata": {},
   "outputs": [
    {
     "name": "stdout",
     "output_type": "stream",
     "text": [
      "Valor p = 0.862 %\n",
      "Ganancia relativa para el grupo B en comparación con el grupo A es de = 0.278 %\n"
     ]
    }
   ],
   "source": [
    "valorp ='{0:.3f}'.format(st.mannwhitneyu(orders_filtered[orders_filtered['group']=='A']['revenue'], orders_filtered[orders_filtered['group']=='B']['revenue'])[1])\n",
    "revenue_B ='{0:.3f}'.format(orders_filtered[orders_filtered['group']=='B']['revenue'].mean()/orders_filtered[orders_filtered['group']=='A']['revenue'].mean()-1)\n",
    "\n",
    "print(f'Valor p =', valorp,'%')\n",
    "print(f'Ganancia relativa para el grupo B en comparación con el grupo A es de =', revenue_B,'%')"
   ]
  },
  {
   "cell_type": "markdown",
   "metadata": {},
   "source": [
    "- El valor p es significativamente mayor a 0.05 por lo que no existen diferencias estadisticamente significativas entre los tamaños de pedido promedio de los grupos.\n",
    "- La diferencia relativa entre los grupos es de 27%, lo cual es bastante considerable. \n",
    "- Tengamos en cuenta que estos resultados estan contemplando valores atípicos."
   ]
  },
  {
   "cell_type": "markdown",
   "metadata": {},
   "source": [
    "# Significancia estadística de la diferencia en la conversión entre los grupos utilizando los datos filtrados"
   ]
  },
  {
   "cell_type": "markdown",
   "metadata": {},
   "source": [
    "Ahora, vamos a realizar el mismo análisis pero con diferente enfoque, sin los valores atípicos\n",
    "Tengamos en cuenta lo siguiente:\n",
    "- los percentiles 95 y 99 para el tamaño promedio de pedido fueron 414 y 830 unidades monetarias. \n",
    "- los percentiles 95 y 99 para el número de usuarios fueron de uno y dos pedidos.\n",
    "\n",
    "Sabiendo estos datos, tendremos que considerar usuarios anómalos a aquellos que realizaron dos o más pedidos o realizaron uno de más de 500$"
   ]
  },
  {
   "cell_type": "markdown",
   "metadata": {},
   "source": [
    "Son los usuarios que eliminaremos pero primero tenemos que identificar los pedidos anómalos. Después, agregaremos los usuarios que los realizaron a una lista de anomalías."
   ]
  },
  {
   "cell_type": "code",
   "execution_count": 143,
   "metadata": {},
   "outputs": [
    {
     "name": "stdout",
     "output_type": "stream",
     "text": [
      "1099    148427295\n",
      "928     204675465\n",
      "33      249864742\n",
      "684     358944393\n",
      "36      366673373\n",
      "Name: visitorId, dtype: int64\n"
     ]
    }
   ],
   "source": [
    "usersWithManyOrders = pd.concat([ordersByUsersA[ordersByUsersA['orders'] > 1]['visitorId'], ordersByUsersB[ordersByUsersB['orders'] > 1]['visitorId']], axis = 0)\n",
    "usersWithExpensiveOrders = orders[orders['revenue'] > 500]['visitorId']\n",
    "abnormalUsers = pd.concat([usersWithManyOrders, usersWithExpensiveOrders], axis = 0).drop_duplicates().sort_values()\n",
    "print(abnormalUsers.head(5))"
   ]
  },
  {
   "cell_type": "markdown",
   "metadata": {},
   "source": [
    "Perfecto, nuestro enfoque ha funcionado. Ya tenemos un conjunto de usuarios anómalos, Ahora veamos cuantos usuarios consideramos anómalos y después de eliminarlos será el momento de calcular la significancia estadística."
   ]
  },
  {
   "cell_type": "code",
   "execution_count": 144,
   "metadata": {},
   "outputs": [
    {
     "name": "stdout",
     "output_type": "stream",
     "text": [
      "Total de usuarios anómalos: 79\n"
     ]
    }
   ],
   "source": [
    "print('Total de usuarios anómalos:', len(abnormalUsers))"
   ]
  },
  {
   "cell_type": "code",
   "execution_count": 145,
   "metadata": {},
   "outputs": [
    {
     "name": "stdout",
     "output_type": "stream",
     "text": [
      "Valor p: 0.00967\n",
      "Ganancia relativa del grupo B: 0.186\n"
     ]
    }
   ],
   "source": [
    "sampleAFiltered = pd.concat([ordersByUsersA[np.logical_not(ordersByUsersA['visitorId'].isin(abnormalUsers))]['orders'],pd.Series(0, index=np.arange(visits[visits['group']=='A']['visits'].sum() - len(ordersByUsersA['orders'])),name='orders')],axis=0)\n",
    "\n",
    "sampleBFiltered = pd.concat([ordersByUsersB[np.logical_not(ordersByUsersB['visitorId'].isin(abnormalUsers))]['orders'],pd.Series(0, index=np.arange(visits[visits['group']=='B']['visits'].sum() - len(ordersByUsersB['orders'])),name='orders')],axis=0)\n",
    "\n",
    "valor_p2 = \"{0:.5f}\".format(st.mannwhitneyu(sampleAFiltered, sampleBFiltered)[1])\n",
    "rev_B = \"{0:.3f}\".format(sampleBFiltered.mean()/sampleAFiltered.mean()-1)\n",
    "\n",
    "print(f'Valor p:', valor_p2)\n",
    "print(f'Ganancia relativa del grupo B:', rev_B)"
   ]
  },
  {
   "cell_type": "markdown",
   "metadata": {},
   "source": [
    "Como vemos, al igual que con los datos sin procesar, **hemos alcanzado el nivel de significación** y la ganacia relativa del grupo B a comparación con el grupo A sigue siendo mayor con los datos filtrados, eso indica que **el segmento B es mejor que el segmento A en ambos casos.**"
   ]
  },
  {
   "cell_type": "markdown",
   "metadata": {},
   "source": [
    "# Significancia estadística de la diferencia en el tamaño promedio de pedido entre los grupos utilizando los datos filtrados."
   ]
  },
  {
   "cell_type": "code",
   "execution_count": 146,
   "metadata": {},
   "outputs": [
    {
     "data": {
      "text/html": [
       "<div>\n",
       "<style scoped>\n",
       "    .dataframe tbody tr th:only-of-type {\n",
       "        vertical-align: middle;\n",
       "    }\n",
       "\n",
       "    .dataframe tbody tr th {\n",
       "        vertical-align: top;\n",
       "    }\n",
       "\n",
       "    .dataframe thead th {\n",
       "        text-align: right;\n",
       "    }\n",
       "</style>\n",
       "<table border=\"1\" class=\"dataframe\">\n",
       "  <thead>\n",
       "    <tr style=\"text-align: right;\">\n",
       "      <th></th>\n",
       "      <th>transactionId</th>\n",
       "      <th>visitorId</th>\n",
       "      <th>date</th>\n",
       "      <th>revenue</th>\n",
       "      <th>group</th>\n",
       "    </tr>\n",
       "  </thead>\n",
       "  <tbody>\n",
       "    <tr>\n",
       "      <th>0</th>\n",
       "      <td>3667963787</td>\n",
       "      <td>3312258926</td>\n",
       "      <td>2019-08-15</td>\n",
       "      <td>30.4</td>\n",
       "      <td>B</td>\n",
       "    </tr>\n",
       "    <tr>\n",
       "      <th>1</th>\n",
       "      <td>2804400009</td>\n",
       "      <td>3642806036</td>\n",
       "      <td>2019-08-15</td>\n",
       "      <td>15.2</td>\n",
       "      <td>B</td>\n",
       "    </tr>\n",
       "    <tr>\n",
       "      <th>3</th>\n",
       "      <td>3797467345</td>\n",
       "      <td>1196621759</td>\n",
       "      <td>2019-08-15</td>\n",
       "      <td>155.1</td>\n",
       "      <td>B</td>\n",
       "    </tr>\n",
       "    <tr>\n",
       "      <th>4</th>\n",
       "      <td>2282983706</td>\n",
       "      <td>2322279887</td>\n",
       "      <td>2019-08-15</td>\n",
       "      <td>40.5</td>\n",
       "      <td>B</td>\n",
       "    </tr>\n",
       "    <tr>\n",
       "      <th>5</th>\n",
       "      <td>182168103</td>\n",
       "      <td>935554773</td>\n",
       "      <td>2019-08-15</td>\n",
       "      <td>35.0</td>\n",
       "      <td>B</td>\n",
       "    </tr>\n",
       "  </tbody>\n",
       "</table>\n",
       "</div>"
      ],
      "text/plain": [
       "   transactionId   visitorId       date  revenue group\n",
       "0     3667963787  3312258926 2019-08-15     30.4     B\n",
       "1     2804400009  3642806036 2019-08-15     15.2     B\n",
       "3     3797467345  1196621759 2019-08-15    155.1     B\n",
       "4     2282983706  2322279887 2019-08-15     40.5     B\n",
       "5      182168103   935554773 2019-08-15     35.0     B"
      ]
     },
     "execution_count": 146,
     "metadata": {},
     "output_type": "execute_result"
    }
   ],
   "source": [
    "orders_filtered.head()"
   ]
  },
  {
   "cell_type": "code",
   "execution_count": 147,
   "metadata": {},
   "outputs": [
    {
     "name": "stdout",
     "output_type": "stream",
     "text": [
      "Valor p = 0.992 %\n",
      "Ganancia relativa para el grupo B en comparación con el grupo A es de = 0.016 %\n"
     ]
    }
   ],
   "source": [
    "valor_p_filtered = '{0:.3f}'.format(st.mannwhitneyu(\n",
    "    orders_filtered[np.logical_and(\n",
    "        orders_filtered['group']=='A',\n",
    "        np.logical_not(orders_filtered['visitorId'].isin(abnormalUsers)))]['revenue'],\n",
    "    orders_filtered[np.logical_and(\n",
    "        orders_filtered['group']=='B',\n",
    "        np.logical_not(orders_filtered['visitorId'].isin(abnormalUsers)))]['revenue'])[1])\n",
    "\n",
    "revenue_b_filtered = '{0:.3f}'.format(\n",
    "    orders_filtered[np.logical_and(orders_filtered['group']=='B',np.logical_not(orders_filtered['visitorId'].isin(abnormalUsers)))]['revenue'].mean()/\n",
    "    orders_filtered[np.logical_and(\n",
    "        orders_filtered['group']=='A',\n",
    "        np.logical_not(orders_filtered['visitorId'].isin(abnormalUsers)))]['revenue'].mean() - 1)\n",
    "\n",
    "print(f'Valor p =', valor_p_filtered,'%')\n",
    "print(f'Ganancia relativa para el grupo B en comparación con el grupo A es de =', revenue_b_filtered,'%')"
   ]
  },
  {
   "cell_type": "markdown",
   "metadata": {},
   "source": [
    "Al comparar los resultados entre el enfoque con todos los datos y el enfoque con datos filtrados (sin valores atípicos), podemos observar lo siguiente:\n",
    "\n",
    "- **Valor p**: El valor p representa la significancia estadística de la diferencia en el tamaño promedio de pedido entre los grupos. En el **primer caso, utilizando todos los datos, obtenemos un **valor p de 0.862%**, mientras que en el **segundo caso, con los datos filtrados, obtenemos un **valor p de 0.992%**. Ambos valores p son mayores que el umbral típico de significancia estadística de 0.05, lo que indica que **no hay suficiente evidencia para rechazar la hipótesis nula de que no hay diferencia significativa en el tamaño promedio de pedido entre los grupos**. En ambos casos, no podemos concluir que exista una diferencia significativa entre los grupos en términos de tamaño promedio de pedido.\n",
    "\n",
    "- **Ganancia relativa para el grupo B**: En el **primer caso, la ganancia relativa es de 0.278%**, lo que indica que el grupo B tiene un 27.8% más de ingresos en comparación con el grupo A. En el **segundo caso**, con los datos filtrados, la **ganancia relativa es de 0.016%**, lo que indica que el grupo B tiene un 1.6% más de ingresos en comparación con el grupo A. La diferencia en la ganancia relativa entre los dos enfoques puede ser atribuida a la exclusión de los valores atípicos en el segundo caso. Al eliminar los valores atípicos, la diferencia en los ingresos promedio entre los grupos se reduce."
   ]
  },
  {
   "cell_type": "markdown",
   "metadata": {},
   "source": [
    "## Conclusiones"
   ]
  },
  {
   "cell_type": "markdown",
   "metadata": {},
   "source": [
    "El proyecto ha sido llevado a cabo de manera exitosa, cumpliendo con todos los objetivos establecidos y alcanzando resultados significativos. A continuación se presentan las principales conclusiones extraídas de este proyecto:\n",
    "\n",
    "- Tanto los datos sin filtrar como los datos filtrados mostraron diferencias estadísticamente significativas en términos de conversiones entre las cohortes.\n",
    "\n",
    "- Tanto los datos sin filtrar como los datos filtrados no mostraron diferencias estadísticamente significativas en términos de tamaño promedio de pedido entre los grupos.\n",
    "\n",
    "- Un gráfico que muestra las diferencias de conversión entre los grupos revela que los resultados del grupo B son superiores, demostrando un aumento del 16%.\n",
    "\n",
    "- Un gráfico que muestra la diferencia en el tamaño promedio de pedido entre los grupos muestra que los resultados del grupo B son más altos que los del grupo A. La presencia de anomalías puede haber sesgado los resultados, pero al filtrar estos valores atípicos se observa una disminución del 3% en comparación con el grupo A.\n",
    "\n",
    "- Durante la priorización de hipótesis, al contemplar el Fator **ICE** tuvimos como resultado en primer lugar la hipótesis: **\"Launch a promotion that gives users discounts\"**, mientras que al contemplar el factor **RICE** se obtuvo como primer lugar la hipótesis: **\"Add a subscription form to all the main pages\"**"
   ]
  },
  {
   "cell_type": "markdown",
   "metadata": {},
   "source": [
    "En resumen, al utilizar los datos filtrados y eliminar los valores atípicos, no encontramos una diferencia significativa en el tamaño promedio de pedido entre los grupos A y B. Además, la ganancia relativa para el grupo B en comparación con el grupo A es mucho menor cuando se consideran los datos filtrados (1.6% mayor), lo que sugiere que los valores atípicos pueden haber influido en la aparente diferencia en la ganancia relativa en el primer enfoque.\n",
    "\n",
    "Aunque se observaron diferencias significativas en términos de conversiones entre las cohortes y se encontró que el grupo B mostró mejores resultados en cuanto a conversiones y tamaño promedio de pedido, es importante recopilar más datos para obtener una imagen más completa y precisa.\n",
    "\n",
    "Al continuar la prueba durante otro período de tiempo, se podrá obtener información adicional que respalde de manera más sólida las conclusiones y permita tomar decisiones más fundamentadas. Además, es posible identificar otras variables o factores que podrían estar influyendo en los resultados y que requieran una evaluación más exhaustiva.\n",
    "\n",
    "Por lo tanto, **la opción más prudente sería continuar la prueba**, recopilando más datos y realizando un análisis más profundo antes de tomar decisiones definitivas. Esto proporcionará una mayor confianza en los resultados y permitirá tomar acciones más efectivas para mejorar las conversiones y el tamaño promedio de pedido en el futuro."
   ]
  }
 ],
 "metadata": {
  "kernelspec": {
   "display_name": "Python 3 (ipykernel)",
   "language": "python",
   "name": "python3"
  },
  "language_info": {
   "codemirror_mode": {
    "name": "ipython",
    "version": 3
   },
   "file_extension": ".py",
   "mimetype": "text/x-python",
   "name": "python",
   "nbconvert_exporter": "python",
   "pygments_lexer": "ipython3",
   "version": "3.9.5"
  },
  "toc": {
   "base_numbering": 1,
   "nav_menu": {},
   "number_sections": true,
   "sideBar": true,
   "skip_h1_title": true,
   "title_cell": "Table of Contents",
   "title_sidebar": "Contents",
   "toc_cell": true,
   "toc_position": {
    "height": "calc(100% - 180px)",
    "left": "10px",
    "top": "150px",
    "width": "376.768px"
   },
   "toc_section_display": true,
   "toc_window_display": false
  }
 },
 "nbformat": 4,
 "nbformat_minor": 2
}
